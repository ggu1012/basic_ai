{
 "cells": [
  {
   "cell_type": "markdown",
   "id": "e646c979",
   "metadata": {
    "id": "4eb5d0c5"
   },
   "source": [
    "> ### EEE3314: Introduction to Artificial Intelligence\n",
    "\n",
    "# Assignment \\# IX:  Convolutional Neural Networks"
   ]
  },
  {
   "cell_type": "markdown",
   "id": "0e37ea29",
   "metadata": {
    "id": "2545fdbb"
   },
   "source": [
    "### *Assignement Instructions:*\n",
    "- **Due date**: 11 PM, Dec. 18, 2021\n",
    "- **File name**: ID_Name_HW9.ipynb\n",
    "- Write a program implementing a particular algorithm to solve a given problem.   \n",
    "- **Analyze the algorithm, theoretically and empirically. Report and discuss your results.**\n",
    "\n",
    "### *Collaboration policy:*\n",
    "- You may discuss the questions with your friends, but each student writes their own codes and answers.  \n",
    "- **Cheating is strictly prohibited, and will be considered academic dishonesty. This is not how you want to start your career as an engineer.**\n",
    "We expect that most students can distinguish between helping other students and cheating. Explaining the meaning of a question or discussing a way of approaching a solution is an interaction. But you should write your homework solution strictly by your so that your hands and eyes can help you internalize the subject matter. You should acknowledge everyone whom you have worked with, or who has given you any significant ideas about the homework.\n",
    "- Signiture: <span style=\"color:blue\">[Insert your ID HERE] [Insert your name HERE]</span>"
   ]
  },
  {
   "cell_type": "code",
   "execution_count": 1,
   "id": "3937b67a",
   "metadata": {
    "colab": {
     "base_uri": "https://localhost:8080/"
    },
    "id": "ba8badc9",
    "outputId": "3b10570a-5dd4-4ba1-ac6c-faad731457c1"
   },
   "outputs": [
    {
     "name": "stdout",
     "output_type": "stream",
     "text": [
      "Python version\n",
      "sys.version_info(major=3, minor=7, micro=12, releaselevel='final', serial=0)\n",
      "\n",
      "OS information\n",
      "Linux-5.4.104+-x86_64-with-Ubuntu-18.04-bionic\n",
      "\n",
      "Is GPU available?\n",
      "True\n",
      "\n",
      "GPU information\n",
      "Mon Dec  6 01:07:50 2021       \n",
      "+-----------------------------------------------------------------------------+\n",
      "| NVIDIA-SMI 495.44       Driver Version: 460.32.03    CUDA Version: 11.2     |\n",
      "|-------------------------------+----------------------+----------------------+\n",
      "| GPU  Name        Persistence-M| Bus-Id        Disp.A | Volatile Uncorr. ECC |\n",
      "| Fan  Temp  Perf  Pwr:Usage/Cap|         Memory-Usage | GPU-Util  Compute M. |\n",
      "|                               |                      |               MIG M. |\n",
      "|===============================+======================+======================|\n",
      "|   0  Tesla K80           Off  | 00000000:00:04.0 Off |                    0 |\n",
      "| N/A   51C    P8    32W / 149W |      3MiB / 11441MiB |      0%      Default |\n",
      "|                               |                      |                  N/A |\n",
      "+-------------------------------+----------------------+----------------------+\n",
      "                                                                               \n",
      "+-----------------------------------------------------------------------------+\n",
      "| Processes:                                                                  |\n",
      "|  GPU   GI   CI        PID   Type   Process name                  GPU Memory |\n",
      "|        ID   ID                                                   Usage      |\n",
      "|=============================================================================|\n",
      "|  No running processes found                                                 |\n",
      "+-----------------------------------------------------------------------------+\n"
     ]
    }
   ],
   "source": [
    "#####################################################################\n",
    "# In order to use GPU acceleration, you must change runtime type.\n",
    "# See the menu bar above. \n",
    "# \"Runtime\" -> \"Change runtime type\"  -> \"Hardware accelerator\"\n",
    "# Change 'None' to 'GPU', then run the code below.\n",
    "#####################################################################\n",
    "\n",
    "import sys\n",
    "import platform\n",
    "import torch\n",
    "\n",
    "print(\"Python version\")\n",
    "print(sys.version_info)\n",
    "\n",
    "print(\"\\nOS information\")\n",
    "print(platform.platform())\n",
    "\n",
    "print(\"\\nIs GPU available?\")\n",
    "print(torch.cuda.is_available())\n",
    "\n",
    "# print(\"\\nCPU information\")\n",
    "# !cat /proc/cpuinfo\n",
    "\n",
    "# print(\"\\nMemory information\")\n",
    "# !cat /proc/meminfo\n",
    "\n",
    "print(\"\\nGPU information\")\n",
    "!nvidia-smi"
   ]
  },
  {
   "cell_type": "code",
   "execution_count": 2,
   "id": "35c72bfe",
   "metadata": {
    "id": "2b5d9144"
   },
   "outputs": [],
   "source": [
    "%load_ext autoreload\n",
    "%autoreload 2"
   ]
  },
  {
   "cell_type": "code",
   "execution_count": 3,
   "id": "214df642",
   "metadata": {
    "colab": {
     "base_uri": "https://localhost:8080/"
    },
    "id": "917e350f",
    "outputId": "1940f9de-7c9e-4025-d1a0-ddc586ca5d2b"
   },
   "outputs": [
    {
     "name": "stdout",
     "output_type": "stream",
     "text": [
      "This code is written at 2021-12-06 01:08:00.938607\n"
     ]
    }
   ],
   "source": [
    "import datetime\n",
    "print(\"This code is written at \" + str(datetime.datetime.now()))"
   ]
  },
  {
   "cell_type": "code",
   "execution_count": 4,
   "id": "f784508d",
   "metadata": {
    "colab": {
     "base_uri": "https://localhost:8080/"
    },
    "id": "a5ba4124",
    "outputId": "2c79131a-fbf0-4a1d-fb64-f7eaf497ebf6"
   },
   "outputs": [
    {
     "name": "stdout",
     "output_type": "stream",
     "text": [
      "Mounted at /content/drive\n"
     ]
    }
   ],
   "source": [
    "from google.colab import drive\n",
    "drive.mount('/content/drive')"
   ]
  },
  {
   "cell_type": "code",
   "execution_count": 5,
   "id": "306441b9",
   "metadata": {
    "colab": {
     "base_uri": "https://localhost:8080/"
    },
    "id": "04637025",
    "outputId": "75f8cc2a-1b3f-4a9a-b7f5-d242170fb934"
   },
   "outputs": [
    {
     "name": "stdout",
     "output_type": "stream",
     "text": [
      "/content/drive/My Drive/Colab\n"
     ]
    }
   ],
   "source": [
    "cd /content/drive/My Drive/Colab"
   ]
  },
  {
   "cell_type": "markdown",
   "id": "cd86bc60",
   "metadata": {
    "id": "d4b3ae33"
   },
   "source": [
    "## PyTorch Tutorial\n",
    "PyTorch is one of the latest deep learning framework developed by Facebook, and open sourced on GitHub since 2017. You can read more about its development in the research paper \"Automatic Differentiation in PyTorch.\" PyTorch is gaining popularity for its simplicity, ease of use, dynamic computational graph and efficient memory usage. (reference : https://builtin.com/data-science/pytorch-vs-tensorflow)"
   ]
  },
  {
   "cell_type": "markdown",
   "id": "43eded35",
   "metadata": {
    "id": "0b055ef4"
   },
   "source": [
    "### Example: PyTorch implementation for Assignment 8   \n",
    "\n",
    "Recall the assignment 8 which contains a classification problem of $\\texttt{moons}$ dataset from ```sklearn.datasets```. In the assignment 8, we implemented forward and backward propagation methods using numpy, and trained a neural network with the following configuration.\n",
    " - **Input size**: 2\n",
    " - **the number ot hidden units** : [10, 10] \n",
    " - **Output size**: 2\n",
    " - **Activations** : [sigmoid, tanh, softmax]\n",
    " - **Loss function**: Cross entropy loss\n",
    " - **Optimizer**: Gradient descent\n",
    " - **Learning rate** = 0.001\n",
    " - **Number of epochs** = 50000\n",
    " \n",
    "Let's reproduce it by using a pytorch framework. First, load the $\\texttt{moons}$ dataset from ```sklearn.dataset``` and visualize samples."
   ]
  },
  {
   "cell_type": "code",
   "execution_count": 6,
   "id": "b70d24b2",
   "metadata": {
    "id": "13fd1a50"
   },
   "outputs": [],
   "source": [
    "import os\n",
    "os.environ[\"CUDA_VISIBLE_DEVICES\"] = \"0\" # We use CPUs for training models.\n",
    "\n",
    "import tqdm\n",
    "import numpy as np\n",
    "import matplotlib.pyplot as plt\n",
    "import sklearn.datasets\n",
    "\n",
    "\n",
    "np.random.seed(0)\n",
    "# dataset\n",
    "X, y = sklearn.datasets.make_moons(300, noise = 0.25)"
   ]
  },
  {
   "cell_type": "code",
   "execution_count": 7,
   "id": "cbe68dfa",
   "metadata": {
    "colab": {
     "base_uri": "https://localhost:8080/",
     "height": 282
    },
    "id": "0d965307",
    "outputId": "86e02b7f-fcd2-4b83-ed33-b59e278b10aa"
   },
   "outputs": [
    {
     "data": {
      "text/plain": [
       "<matplotlib.collections.PathCollection at 0x7f77232d5f90>"
      ]
     },
     "execution_count": 7,
     "metadata": {},
     "output_type": "execute_result"
    },
    {
     "data": {
      "image/png": "[encoded data removed]",
      "text/plain": [
       "<Figure size 432x288 with 1 Axes>"
      ]
     },
     "metadata": {
      "needs_background": "light"
     },
     "output_type": "display_data"
    }
   ],
   "source": [
    "plt.scatter(X[:,0], X[:,1], s = 40, c=y, cmap=plt.cm.RdYlGn)"
   ]
  },
  {
   "cell_type": "code",
   "execution_count": 8,
   "id": "eadd9e52",
   "metadata": {
    "id": "610e90de"
   },
   "outputs": [],
   "source": [
    "from project9 import plot_decision_boundary, get_accuracy, get_prediction\n",
    "import torch\n",
    "import torch.optim as optim\n",
    "import torch.nn as nn\n",
    "\n",
    "torch.manual_seed(0)\n",
    "if torch.cuda.is_available():\n",
    "    torch.cuda.manual_seed_all(0)\n"
   ]
  },
  {
   "cell_type": "markdown",
   "id": "540b6c08",
   "metadata": {
    "id": "77b625d2"
   },
   "source": [
    "The following cell shows how to define a neural network with three layers in PyTorch. The function ```nn.Linear()``` constructs a fully connected layer with arguments ```in_features``` and ```out_features```, dimensions of input and output features, respectively. The ```forward``` function defines a forward propagation of an input tensor ```x```. Note that a $\\texttt{ReLU}$ and a $\\texttt{sigmoid}$ activations are used for the first and second layers."
   ]
  },
  {
   "cell_type": "code",
   "execution_count": 9,
   "id": "d4cc0f07",
   "metadata": {
    "id": "5c9ac7a0"
   },
   "outputs": [],
   "source": [
    "class MoonMLP(nn.Module):\n",
    "    def __init__(self):\n",
    "        super(MoonMLP, self).__init__()\n",
    "        self.fc1 = nn.Linear(in_features=2, out_features=10)\n",
    "        self.fc2 = nn.Linear(in_features=10, out_features=10)\n",
    "        self.fc3 = nn.Linear(in_features=10, out_features=2)\n",
    "\n",
    "    def forward(self, x):\n",
    "        x = torch.relu(self.fc1(x))\n",
    "        x = torch.sigmoid(self.fc2(x))\n",
    "        logits = self.fc3(x) # It doesn't need to apply softmax activation because objective function \"torch.nn.CrossEntropyLoss\" contains softmax function for the logits. \n",
    "        return logits"
   ]
  },
  {
   "cell_type": "code",
   "execution_count": 10,
   "id": "e3648613",
   "metadata": {
    "colab": {
     "base_uri": "https://localhost:8080/"
    },
    "id": "188ba9c0",
    "outputId": "567de184-cbcd-4e3f-8822-629bb8496806"
   },
   "outputs": [
    {
     "name": "stdout",
     "output_type": "stream",
     "text": [
      "MoonMLP(\n",
      "  (fc1): Linear(in_features=2, out_features=10, bias=True)\n",
      "  (fc2): Linear(in_features=10, out_features=10, bias=True)\n",
      "  (fc3): Linear(in_features=10, out_features=2, bias=True)\n",
      ")\n"
     ]
    }
   ],
   "source": [
    "device = torch.device(\"cuda\" if torch.cuda.is_available() else \"cpu\")\n",
    "moon_mlp_model = MoonMLP() # instanciation\n",
    "moon_mlp_model.to(device) # to GPU\n",
    "print(moon_mlp_model)"
   ]
  },
  {
   "cell_type": "markdown",
   "id": "7da6353e",
   "metadata": {
    "id": "42d6565f"
   },
   "source": [
    "Next, we have to define an optimizer and a loss function. PyTorch provides modules for optimizers and loss functions. See the official documentations for [```optim.SGD```](https://pytorch.org/docs/master/optim.html#torch.optim.SGD) and [```torch.nn.CrossEntropyLoss```](https://pytorch.org/docs/master/nn.html#torch.nn.CrossEntropyLoss).\n"
   ]
  },
  {
   "cell_type": "code",
   "execution_count": 11,
   "id": "291dcff9",
   "metadata": {
    "id": "4d855325"
   },
   "outputs": [],
   "source": [
    "learning_rate = 0.001\n",
    "\n",
    "# define the optimizer\n",
    "optimizer = optim.SGD(moon_mlp_model.parameters(), lr=learning_rate)\n",
    "\n",
    "# define the loss function\n",
    "criterion = torch.nn.CrossEntropyLoss(reduction='sum')"
   ]
  },
  {
   "cell_type": "markdown",
   "id": "4a28e6ce",
   "metadata": {
    "id": "85c97547"
   },
   "source": [
    "Finally, we can train our model. For each iteration, training models typically consists of five steps in PyTorch as follows:\n",
    "1. Initializing gradients to zero\n",
    "2. Forward propagation\n",
    "3. Calculating a loss value\n",
    "4. Calculating gradients through a backward propagation\n",
    "5. Updating model parameters \n"
   ]
  },
  {
   "cell_type": "code",
   "execution_count": 12,
   "id": "45726496",
   "metadata": {
    "colab": {
     "base_uri": "https://localhost:8080/",
     "height": 49,
     "referenced_widgets": [
      "08658c64887c4db3bd959398960dc5ec",
      "3cd3f9ffc8454c1d9d8bde82c10699b6",
      "8b680df52b5e44dc97d5319f45957edb",
      "cdc40afbebfc4d1f89324bffc67c37f1",
      "d7c9e8726f754cbf864ba71738c3f2bf",
      "673407477aca407dac40f320cdbf48cd",
      "87169449cfe3445192559a8d2638e425",
      "f66b46d96b914688b6528d6bb0aa12e5",
      "823d5017ce17481bbdabf1d0d6305e72",
      "16706e18df734b41bf6faea83bf045b1",
      "07ec248ecf774de7a5b7a3cf97b1d6a0"
     ]
    },
    "id": "e3eb2ce9",
    "outputId": "c3626814-5388-4133-e106-34a6078b18df"
   },
   "outputs": [
    {
     "data": {
      "application/vnd.jupyter.widget-view+json": {
       "model_id": "08658c64887c4db3bd959398960dc5ec",
       "version_major": 2,
       "version_minor": 0
      },
      "text/plain": [
       "  0%|          | 0/50000 [00:00<?, ?it/s]"
      ]
     },
     "metadata": {},
     "output_type": "display_data"
    }
   ],
   "source": [
    "total_epoch = 50000\n",
    "# conver numpy to torch.tensor type\n",
    "X_tensor = torch.Tensor(X)\n",
    "y_tensor = torch.LongTensor(y)\n",
    "\n",
    "X_tensor = X_tensor.to(device)\n",
    "y_tensor = y_tensor.to(device)\n",
    "\n",
    "tbar = tqdm.notebook.tqdm(range(total_epoch), total=total_epoch)\n",
    "\n",
    "# set the model to train-mode. \n",
    "moon_mlp_model.train()\n",
    "for epoch in tbar:\n",
    "    \n",
    "    # step 1) initialize gradients to zero \n",
    "    optimizer.zero_grad()\n",
    "    \n",
    "    # step 2) forward propagation\n",
    "    output = moon_mlp_model(X_tensor)\n",
    "    \n",
    "    # step 3) calculate loss\n",
    "    loss = criterion(output, y_tensor)\n",
    "    \n",
    "    # step 4) calculate gradients through a backward propagation\n",
    "    loss.backward()\n",
    "    \n",
    "    # step 5) update model parameters\n",
    "    optimizer.step()\n",
    "    \n",
    "    # print the progress\n",
    "    if epoch % 5000 == 4999:\n",
    "        # set the model to evaluation-mode\n",
    "        moon_mlp_model.eval() \n",
    "        pred = get_prediction(output)\n",
    "        accuracy = get_accuracy(pred, y_tensor)\n",
    "    \n",
    "        desc = '%d-th epoch, loss: %.2f, accuracy: %.2f'%(epoch+1, loss.item(), accuracy)\n",
    "        tbar.set_description(desc)\n",
    "        "
   ]
  },
  {
   "cell_type": "markdown",
   "id": "a7e6767a",
   "metadata": {
    "id": "af0e4c7f"
   },
   "source": [
    "> *tqdm* makes it convinient to check a progress of 'for or while loop'. \n"
   ]
  },
  {
   "cell_type": "code",
   "execution_count": 13,
   "id": "fc69e7c6",
   "metadata": {
    "colab": {
     "base_uri": "https://localhost:8080/",
     "height": 266
    },
    "id": "03b8a54e",
    "outputId": "277240f7-464a-4ab7-a907-d4686ec05737"
   },
   "outputs": [
    {
     "data": {
      "image/png": "[encoded data removed]",
      "text/plain": [
       "<Figure size 432x288 with 1 Axes>"
      ]
     },
     "metadata": {
      "needs_background": "light"
     },
     "output_type": "display_data"
    }
   ],
   "source": [
    "plot_decision_boundary(moon_mlp_model, X, y)"
   ]
  },
  {
   "cell_type": "markdown",
   "id": "3a00ad81",
   "metadata": {
    "id": "54cc45b7"
   },
   "source": [
    "In this example, we have shown how to build an MLP model, to use a pre-defined loss function and an optimizer, and to train the model using PyTorch."
   ]
  },
  {
   "cell_type": "markdown",
   "id": "09669343",
   "metadata": {
    "id": "9390c3b6"
   },
   "source": [
    "## Problem statement"
   ]
  },
  {
   "cell_type": "markdown",
   "id": "2eb4d0f7",
   "metadata": {
    "id": "fab690ac"
   },
   "source": [
    "We will implement a convolutional neural network(CNN) and multilayer perceptron (MLP) for tetris block classification."
   ]
  },
  {
   "cell_type": "markdown",
   "id": "aac5991a",
   "metadata": {
    "id": "3f5bb840"
   },
   "source": [
    "<img src = \"https://i.imgur.com/ZwfnL78.png\">\n",
    "\n",
    "In this assignment, we will solve the tetris block classification task using MLP and CNNs. We will then verify the reason why CNNs are better than MLP for such tasks in computer vision. Finally, we will investigate three properties of CNNs (robust to translation, and sensitive to scale and rotation variation)."
   ]
  },
  {
   "cell_type": "markdown",
   "id": "74a0f694",
   "metadata": {
    "id": "1b5fddf0"
   },
   "source": [
    "### P1. MLP\n",
    "\n",
    "P1.1 Implement the multilayer perceptron model (```MLP``` class) and the train function (```train``` function) that inputs model, optimizer, criterion, train dataset, and total epcoh, and train the model (step1-5). Run the code provided to train the MLP model. Analyze the results in terms of the number of training samples and the test accuracies. *(15 points)*\n",
    "\n",
    "The configurations for the model are as follows:  \n",
    "\n",
    "- **Model & training settings**\n",
    "    - **architecture**: Linear(64) - relu - Linear(8) - ReLU - Linear(7)\n",
    "    > We denote a fully connected layer with m hidden units by Linear(m).\n",
    "    - **loss function**: CrossEntropyLoss(reduction='mean').\n",
    "    - **optimizer**: Adagrad with learning_rate of 0.01.\n",
    "- **Train set**\n",
    "    - **tetris_2000**: tetris dataset with 2000 samples.\n",
    "    - **tetris_500**: tetris dataset with 500 samples.\n",
    "    - **tetris_100**: tetris dataset with 100 samples. \n",
    "    - For all datasets, the batch size is 20, random position is ```True```, and random scale and rotation are ```False```.\n",
    "    \n",
    "- **Test set**\n",
    "    - test_set: tetris dataset with 200 samples, random position is ```True```, and random scale and rotation are ```False```.\n",
    "- **Epochs**\n",
    "    - 200 for tetris_2000, 400 for tetris_500, and 800 for tetris_100"
   ]
  },
  {
   "cell_type": "markdown",
   "id": "0e4293c5",
   "metadata": {
    "id": "95772b25"
   },
   "source": [
    "### P2. CNN "
   ]
  },
  {
   "cell_type": "markdown",
   "id": "0beabc48",
   "metadata": {
    "id": "150b9429"
   },
   "source": [
    "P2.1 Run the code provided to train the CNN model (```CNN``` class). Analyze the results in terms of the number of training samples and the test accuraies. *(10 points)*  \n",
    "\n",
    "The configurations for the model are as follows:  \n",
    "\n",
    "- **Model & training settings**\n",
    "    - **CNN architecture**: Conv(1,16,9,0) - MaxPool(24) - ReLU - Linear(7)\n",
    "    > We denote a convolutional layer with m input feature channels, n output feature channels, k kernel size and p padding number by Conv(m, n, k, p).\n",
    "    - **loss function**: CrossEntropyLoss(reduction='mean').\n",
    "    - **optimizer**: Adagrad with learning_rate of 0.01.\n",
    "- **Train set**\n",
    "    - **tetris_2000**: tetris dataset with 2000 samples.\n",
    "    - **tetris_500**: tetris dataset with 500 samples.\n",
    "    - **tetris_100**: tetris dataset with 100 samples. \n",
    "    - For all datasets, the batch size is 20, random position is ```True```, and random scale and rotation are ```False```.  \n",
    "    \n",
    "- **Test set**\n",
    "    - test_set: tetris dataset with 200 samples, random position is ```True```, and random scale and rotation are ```False```.  \n",
    "    \n",
    "- **Epochs**\n",
    "    - 200 for tetris_2000, 400 for tetris_500, and 800 for tetris_100    \n",
    "\n",
    "\n",
    "P2.2 Implmenet a deeper CNN model (```DeeperCNN``` class) following the below configurations. Write down the code to train the deeper CNN model. Analyze and contrast CNN (in P2.1) and DeeperCNN models in terms of the number of parameters, test accuracy and generalizability. *(25 points)*\n",
    "\n",
    "The configurations for the model are as follows:  \n",
    "\n",
    "- **Model & training settings**\n",
    "    - **CNN architecture**: Conv(1,4,3,1) - ReLU - Conv(4,4,3,1) - MaxPool(2) - ReLU - Conv(4,8,3,1) - MaxPool(2) - ReLU - Conv(8,8,3,1) - MaxPool(2) - ReLU - Conv(8,16,3,1) - MaxPool(2) - ReLU - Conv(16,16,3,1) - MaxPool(2) - ReLU - Linear(8) - ReLU - Linear(7)\n",
    "    > We denote a convolutional layer with m input feature channels, n output feature channels, k kernel size and p padding number by Conv(m, n, k, p).\n",
    "    - **loss function**: CrossEntropyLoss(reduction='mean').\n",
    "    - **optimizer**: Adagrad with learning_rate of 0.01.\n",
    "- **Train set**\n",
    "    - **tetris_2000**: tetris dataset with 2000 samples.\n",
    "    - For the dataset, the batch size is 20, random position is ```True```, and random scale and rotation are ```False```.  \n",
    "    \n",
    "- **Test set**\n",
    "    - test_set: tetris dataset with 200 samples, random position is ```True```, and random scale and rotation are ```False```.  \n",
    "    \n",
    "- **Epochs**\n",
    "    - 200"
   ]
  },
  {
   "cell_type": "markdown",
   "id": "0a9cf48b",
   "metadata": {
    "id": "5a5cc746"
   },
   "source": [
    "### P3. Analysis (CNN)"
   ]
  },
  {
   "cell_type": "markdown",
   "id": "7d91aad0",
   "metadata": {
    "id": "bc9a60c3"
   },
   "source": [
    "P3.1 Run the code provided to see that CNN (```CNN``` class) is more translation-invariant than MLP (```MLP``` class). Analyze and contrast the CNN and the MLP in terms of the number of parameters. That is, describe the reason why the CNN model shows better performance despite it has fewer model parameters than the MLP. *(25 points)*  \n",
    "\n",
    "The configurations for the dataset are as follows:  \n",
    "\n",
    "- **Train set**\n",
    "    - **train_set_without_randomness**: tetris dataset with 1000 samples.\n",
    "    - The batch size is 20, and random position, random scale and rotation are ```False```.  \n",
    "    \n",
    "- **Test set**\n",
    "    - test_set: tetris dataset with 200 samples, random position is ```True```, and random scale and rotation are ```False```.  \n",
    "\n",
    "P3.2 Verify that the CNN model (```CNN``` class) is sensitive to scale and rotation variations. Construct your own test dataset using the ```make_tetris_dataset``` function and write the code to check them. Analyze the results in terms of the test accuracy. *(20 points)*  \n",
    "\n",
    "- Note that:\n",
    "    - random_scale=True : block_sizes are uniformly selected from [4, 8, 12]\n",
    "    - random_rotation=True : rotations are uniformly selected from [0, 90, 180, 270] \n",
    "  \n",
    "P3.3 Propose and implement your own method to overcome the limitations. *(5 points)* "
   ]
  },
  {
   "cell_type": "markdown",
   "id": "686c0036",
   "metadata": {
    "id": "bce3d98a"
   },
   "source": [
    "---"
   ]
  },
  {
   "cell_type": "markdown",
   "id": "d428c258",
   "metadata": {
    "id": "43cf4344"
   },
   "source": [
    "## Results"
   ]
  },
  {
   "cell_type": "markdown",
   "id": "196388dc",
   "metadata": {
    "id": "7828e132"
   },
   "source": [
    "### Prepare datasets\n",
    "For the tetris block classification task, we provide a data generating function which selects different samples depending on the arguments: \n",
    "- ```make_tetris_dataset(data_num, batch_size, random_position, random_scale, random_rotation)```\n",
    "- Note that the defalut sizs for an image and a block are 32 and 12, respectively. You can find them in thre ```project9.py``` file.\n",
    "\n",
    "Let's visualize the dataset for various arguments settings.  "
   ]
  },
  {
   "cell_type": "code",
   "execution_count": 14,
   "id": "033a0018",
   "metadata": {
    "id": "2b778ce0"
   },
   "outputs": [],
   "source": [
    "from project9 import make_tetris_dataset, visualize_dataset"
   ]
  },
  {
   "cell_type": "code",
   "execution_count": 15,
   "id": "4a991d3b",
   "metadata": {
    "colab": {
     "base_uri": "https://localhost:8080/",
     "height": 94
    },
    "id": "efad026d",
    "outputId": "8c44b641-0d96-4f21-fe95-efd87b6b0513"
   },
   "outputs": [
    {
     "data": {
      "image/png": "[encoded data removed]",
      "text/plain": [
       "<Figure size 720x216 with 10 Axes>"
      ]
     },
     "metadata": {
      "needs_background": "light"
     },
     "output_type": "display_data"
    }
   ],
   "source": [
    "plot_num = 10\n",
    "random_position = False\n",
    "random_scale = False\n",
    "random_rotation = False\n",
    "dataset = make_tetris_dataset(plot_num, 1, random_position, \n",
    "                         random_scale, random_rotation)\n",
    "visualize_dataset(dataset, plot_num)"
   ]
  },
  {
   "cell_type": "code",
   "execution_count": 16,
   "id": "8074c141",
   "metadata": {
    "colab": {
     "base_uri": "https://localhost:8080/",
     "height": 94
    },
    "id": "853cce7a",
    "outputId": "db76b9d2-33ac-46f4-94b9-80c2c35f430f"
   },
   "outputs": [
    {
     "data": {
      "image/png": "[encoded data removed]",
      "text/plain": [
       "<Figure size 720x216 with 10 Axes>"
      ]
     },
     "metadata": {
      "needs_background": "light"
     },
     "output_type": "display_data"
    }
   ],
   "source": [
    "plot_num = 10\n",
    "random_position = True\n",
    "random_scale = False\n",
    "random_rotation = False\n",
    "dataset = make_tetris_dataset(plot_num, 1, random_position, \n",
    "                         random_scale, random_rotation)\n",
    "visualize_dataset(dataset, plot_num)"
   ]
  },
  {
   "cell_type": "code",
   "execution_count": 17,
   "id": "f29dbac0",
   "metadata": {
    "colab": {
     "base_uri": "https://localhost:8080/",
     "height": 94
    },
    "id": "032c4fb2",
    "outputId": "82e8edfa-27b7-416a-ef3d-375f243f8f2d"
   },
   "outputs": [
    {
     "data": {
      "image/png": "[encoded data removed]",
      "text/plain": [
       "<Figure size 720x216 with 10 Axes>"
      ]
     },
     "metadata": {
      "needs_background": "light"
     },
     "output_type": "display_data"
    }
   ],
   "source": [
    "plot_num = 10\n",
    "random_position = True\n",
    "random_scale = True\n",
    "random_rotation = False\n",
    "dataset = make_tetris_dataset(plot_num, 1, random_position, \n",
    "                         random_scale, random_rotation)\n",
    "visualize_dataset(dataset, plot_num)"
   ]
  },
  {
   "cell_type": "code",
   "execution_count": 18,
   "id": "e31811f5",
   "metadata": {
    "colab": {
     "base_uri": "https://localhost:8080/",
     "height": 94
    },
    "id": "ad266bbb",
    "outputId": "94bebce9-7ee5-464d-bc0f-6376190fe51a"
   },
   "outputs": [
    {
     "data": {
      "image/png": "[encoded data removed]",
      "text/plain": [
       "<Figure size 720x216 with 10 Axes>"
      ]
     },
     "metadata": {
      "needs_background": "light"
     },
     "output_type": "display_data"
    }
   ],
   "source": [
    "plot_num = 10\n",
    "random_position = True\n",
    "random_scale = True\n",
    "random_rotation = True\n",
    "dataset = make_tetris_dataset(plot_num, 1, random_position, \n",
    "                         random_scale, random_rotation)\n",
    "visualize_dataset(dataset, plot_num)"
   ]
  },
  {
   "cell_type": "markdown",
   "id": "a6ab3eef",
   "metadata": {
    "id": "4b88d996"
   },
   "source": [
    "### P1.1"
   ]
  },
  {
   "cell_type": "code",
   "execution_count": 19,
   "id": "2871c2d8",
   "metadata": {
    "id": "3071ec19"
   },
   "outputs": [],
   "source": [
    "from project9 import MLP, train, evaluate"
   ]
  },
  {
   "cell_type": "code",
   "execution_count": 20,
   "id": "93cf4ee0",
   "metadata": {
    "id": "af805265"
   },
   "outputs": [],
   "source": [
    "batch_size = 20\n",
    "random_position = True\n",
    "random_scale = False\n",
    "random_rotation = False\n",
    "\n",
    "train_num = 2000\n",
    "tetris_2000 = make_tetris_dataset(train_num, batch_size, random_position, random_scale, random_rotation)\n",
    "\n",
    "train_num = 500\n",
    "tetris_500 = make_tetris_dataset(train_num, batch_size, random_position, random_scale, random_rotation)\n",
    "\n",
    "train_num = 100\n",
    "tetris_100 = make_tetris_dataset(train_num, batch_size, random_position, random_scale, random_rotation)\n",
    "\n",
    "test_num = 200\n",
    "test_set = make_tetris_dataset(test_num, batch_size, random_position, random_scale, random_rotation)"
   ]
  },
  {
   "cell_type": "code",
   "execution_count": 21,
   "id": "f5dce59e",
   "metadata": {
    "colab": {
     "base_uri": "https://localhost:8080/",
     "height": 171,
     "referenced_widgets": [
      "8a754cfb72f04672a9bf170892e2a425",
      "d27aac057ca340afb27b4dd4b87ce7a0",
      "576c3e277d744f9ab6740260bf89e787",
      "f83e5b83f7694d73985b6e0eacc605fe",
      "ed40e4050a6e439a81ad7530ba5e888a",
      "a488b92d10184729827bbdb7f0621caf",
      "33d77df186a44582bbfdffc7d342b8ea",
      "c240779f1552463eb0bd011243897b24",
      "da747adebbea4fa7a37b9a20d10f6773",
      "6636ab78a5104e488bfe217a541c19cf",
      "ea993c767f784ec29ef5d40f0626bf66"
     ]
    },
    "id": "88883408",
    "outputId": "e451ba07-60c9-4edc-f342-8f12e31db5c7"
   },
   "outputs": [
    {
     "name": "stdout",
     "output_type": "stream",
     "text": [
      "MLP(\n",
      "  (fc1): Linear(in_features=1024, out_features=64, bias=True)\n",
      "  (fc2): Linear(in_features=64, out_features=8, bias=True)\n",
      "  (fc3): Linear(in_features=8, out_features=7, bias=True)\n",
      ")\n",
      " number of parameters: 66183\n"
     ]
    },
    {
     "data": {
      "application/vnd.jupyter.widget-view+json": {
       "model_id": "8a754cfb72f04672a9bf170892e2a425",
       "version_major": 2,
       "version_minor": 0
      },
      "text/plain": [
       "  0%|          | 0/200 [00:00<?, ?it/s]"
      ]
     },
     "metadata": {},
     "output_type": "display_data"
    },
    {
     "name": "stdout",
     "output_type": "stream",
     "text": [
      "0.79\n"
     ]
    }
   ],
   "source": [
    "mlp = MLP()\n",
    "mlp.to(device)\n",
    "print(mlp)\n",
    "print(f\" number of parameters: {sum(p.numel() for p in mlp.parameters() if p.requires_grad)}\")\n",
    "\n",
    "learning_rate = 0.01\n",
    "total_epoch = 200\n",
    "\n",
    "optimizer = optim.Adagrad(mlp.parameters(), lr=learning_rate)\n",
    "criterion = torch.nn.CrossEntropyLoss(reduction='mean')\n",
    "train(model=mlp, optimizer=optimizer, criterion=criterion, train_dataset=tetris_2000, total_epoch=total_epoch)\n",
    "accuracy = evaluate(model=mlp, criterion=criterion, test_dataset=test_set)\n",
    "\n",
    "print(accuracy)"
   ]
  },
  {
   "cell_type": "code",
   "execution_count": 22,
   "id": "f068cfdc",
   "metadata": {
    "colab": {
     "base_uri": "https://localhost:8080/",
     "height": 171,
     "referenced_widgets": [
      "5ef752f2072f4438a744dcb6131c1ebd",
      "a98c491ac81b452eaf3cf2b4bebb7ec5",
      "a4a35065f6414a92a1882666c510949e",
      "152d0438d8ad4773906d1ea6cb80aacc",
      "2f89a8a89a984cf3a19e44fd08a1694c",
      "cafb25e0852248d49bca1f323db2c546",
      "eb6ade9918e743ab8d5d4bc4bd5bc554",
      "3de0529533d2431bb8efc69d6f95a3de",
      "eae292819367400eb56d12e3d6c93219",
      "a3a3871d7f8a49ff94e44424770fd6bb",
      "83cc0aed9c4d475388d6bb34a03b0b84"
     ]
    },
    "id": "f5856032",
    "outputId": "e383df6d-8249-459a-d828-7ec0c0e03d9d"
   },
   "outputs": [
    {
     "name": "stdout",
     "output_type": "stream",
     "text": [
      "MLP(\n",
      "  (fc1): Linear(in_features=1024, out_features=64, bias=True)\n",
      "  (fc2): Linear(in_features=64, out_features=8, bias=True)\n",
      "  (fc3): Linear(in_features=8, out_features=7, bias=True)\n",
      ")\n",
      " number of parameters: 66183\n"
     ]
    },
    {
     "data": {
      "application/vnd.jupyter.widget-view+json": {
       "model_id": "5ef752f2072f4438a744dcb6131c1ebd",
       "version_major": 2,
       "version_minor": 0
      },
      "text/plain": [
       "  0%|          | 0/400 [00:00<?, ?it/s]"
      ]
     },
     "metadata": {},
     "output_type": "display_data"
    },
    {
     "name": "stdout",
     "output_type": "stream",
     "text": [
      "0.425\n"
     ]
    }
   ],
   "source": [
    "mlp = MLP()\n",
    "mlp.to(device)\n",
    "print(mlp)\n",
    "print(f\" number of parameters: {sum(p.numel() for p in mlp.parameters() if p.requires_grad)}\")\n",
    "\n",
    "learning_rate = 0.01\n",
    "total_epoch = 400\n",
    "\n",
    "optimizer = optim.Adagrad(mlp.parameters(), lr=learning_rate)\n",
    "criterion = torch.nn.CrossEntropyLoss(reduction='mean')\n",
    "train(model=mlp, optimizer=optimizer, criterion=criterion, train_dataset=tetris_500, total_epoch=total_epoch)\n",
    "accuracy = evaluate(model=mlp, criterion=criterion, test_dataset=test_set)\n",
    "\n",
    "print(accuracy)"
   ]
  },
  {
   "cell_type": "code",
   "execution_count": 23,
   "id": "9df4b3dd",
   "metadata": {
    "colab": {
     "base_uri": "https://localhost:8080/",
     "height": 171,
     "referenced_widgets": [
      "1a3b668636bb4208aa2130093bdc6fd5",
      "1b3f1ba62a014b2aaed2f8405e2ae880",
      "31c4d9dcfafd4c739766a4278b6b4709",
      "5f7f11c1936f4cd3a76fec8bc9856ef1",
      "c4ba642d2e7c4530980a7f3a52cd56a4",
      "b75918859f3f4d67a94e04261dfcbb0c",
      "73ce3257471f4e3c92dadad06b229c8f",
      "21c2e3feba5f44db96d76fac182a4e2c",
      "db93059441964fe589267113e9541ba9",
      "fa5d28343de047cea109376e997b78fa",
      "aaaebbe28c9a4bcf90cdfb032da5fb15"
     ]
    },
    "id": "22c2ac92",
    "outputId": "9b712915-fa74-4e3c-9f62-0aec953bb1ac",
    "scrolled": true
   },
   "outputs": [
    {
     "name": "stdout",
     "output_type": "stream",
     "text": [
      "MLP(\n",
      "  (fc1): Linear(in_features=1024, out_features=64, bias=True)\n",
      "  (fc2): Linear(in_features=64, out_features=8, bias=True)\n",
      "  (fc3): Linear(in_features=8, out_features=7, bias=True)\n",
      ")\n",
      " number of parameters: 66183\n"
     ]
    },
    {
     "data": {
      "application/vnd.jupyter.widget-view+json": {
       "model_id": "1a3b668636bb4208aa2130093bdc6fd5",
       "version_major": 2,
       "version_minor": 0
      },
      "text/plain": [
       "  0%|          | 0/800 [00:00<?, ?it/s]"
      ]
     },
     "metadata": {},
     "output_type": "display_data"
    },
    {
     "name": "stdout",
     "output_type": "stream",
     "text": [
      "0.23500000000000001\n"
     ]
    }
   ],
   "source": [
    "mlp = MLP()\n",
    "mlp.to(device)\n",
    "print(mlp)\n",
    "print(f\" number of parameters: {sum(p.numel() for p in mlp.parameters() if p.requires_grad)}\")\n",
    "\n",
    "learning_rate = 0.01\n",
    "total_epoch = 800\n",
    "\n",
    "optimizer = optim.Adagrad(mlp.parameters(), lr=learning_rate)\n",
    "criterion = torch.nn.CrossEntropyLoss(reduction='mean')\n",
    "train(model=mlp, optimizer=optimizer, criterion=criterion, train_dataset=tetris_100, total_epoch=total_epoch)\n",
    "accuracy = evaluate(model=mlp, criterion=criterion, test_dataset=test_set)\n",
    "\n",
    "print(accuracy)"
   ]
  },
  {
   "cell_type": "markdown",
   "id": "8f273334",
   "metadata": {
    "id": "6d0975a7"
   },
   "source": [
    "Describe your analysis here"
   ]
  },
  {
   "cell_type": "markdown",
   "id": "8dffbea8",
   "metadata": {
    "id": "659fff2e"
   },
   "source": [
    "---"
   ]
  },
  {
   "cell_type": "markdown",
   "id": "cba189ca",
   "metadata": {
    "id": "56c0e2cd"
   },
   "source": [
    "### P2.1"
   ]
  },
  {
   "cell_type": "code",
   "execution_count": 24,
   "id": "a99f55d6",
   "metadata": {
    "id": "3908e485"
   },
   "outputs": [],
   "source": [
    "from project9 import CNN"
   ]
  },
  {
   "cell_type": "code",
   "execution_count": 25,
   "id": "69455116",
   "metadata": {
    "colab": {
     "base_uri": "https://localhost:8080/",
     "height": 153,
     "referenced_widgets": [
      "8d88e4b57ebc4f65a32b3386ddfc8603",
      "2628877386e84c75b88857d7d241638d",
      "ff910fdfc8e54a90acc1736e40941da0",
      "632f6116f2904656be9ce5251af8747e",
      "2eeeaf69b9c9421cae3734c46c303f44",
      "878f4d328d2e48769f16e3d79fb3a940",
      "60a94602d1744dec8efe9404781afb74",
      "8d80cd375d1245e79a4565149658402c",
      "a8d2085e52034cd396a57aa2469a45bd",
      "ccd28704434b4ff3bd0df2eeb99bbce8",
      "bbbef0a0da5e4a69afc41b77954bf6f3"
     ]
    },
    "id": "d87fb938",
    "outputId": "08ebfb13-5279-4584-dafd-348d5422821b"
   },
   "outputs": [
    {
     "name": "stdout",
     "output_type": "stream",
     "text": [
      "CNN(\n",
      "  (conv1): Conv2d(1, 16, kernel_size=(9, 9), stride=(1, 1))\n",
      "  (fc1): Linear(in_features=16, out_features=7, bias=True)\n",
      ")\n",
      " number of parameters: 1431\n"
     ]
    },
    {
     "data": {
      "application/vnd.jupyter.widget-view+json": {
       "model_id": "8d88e4b57ebc4f65a32b3386ddfc8603",
       "version_major": 2,
       "version_minor": 0
      },
      "text/plain": [
       "  0%|          | 0/200 [00:00<?, ?it/s]"
      ]
     },
     "metadata": {},
     "output_type": "display_data"
    },
    {
     "name": "stdout",
     "output_type": "stream",
     "text": [
      "1.0\n"
     ]
    }
   ],
   "source": [
    "cnn = CNN()\n",
    "cnn.to(device)\n",
    "print(cnn)\n",
    "print(f\" number of parameters: {sum(p.numel() for p in cnn.parameters() if p.requires_grad)}\")\n",
    "\n",
    "learning_rate = 0.01\n",
    "total_epoch = 200\n",
    "\n",
    "optimizer = optim.Adagrad(cnn.parameters(), lr=learning_rate)\n",
    "criterion = torch.nn.CrossEntropyLoss(reduction='mean')\n",
    "train(model=cnn, optimizer=optimizer, criterion=criterion, train_dataset=tetris_2000, total_epoch=total_epoch)\n",
    "accuracy = evaluate(model=cnn, criterion=criterion, test_dataset=test_set)\n",
    "\n",
    "print(accuracy)"
   ]
  },
  {
   "cell_type": "code",
   "execution_count": 26,
   "id": "1bba5a4d",
   "metadata": {
    "colab": {
     "base_uri": "https://localhost:8080/",
     "height": 153,
     "referenced_widgets": [
      "7a2ff93cc8da4de0ad8d96e0dffc5a80",
      "ef278c4208f8435c8d6cc1a13bf50f42",
      "ee57fd8d06f941d4b0dfb27f5f0e677f",
      "c3ef3cadcf594e80a1027822fc84eb21",
      "4ca5b7cf6a274ff7b4fa07d71987b714",
      "6de329c276e94cf29208beb8849614f6",
      "f782818d403849e4ab7b5786071ce9b8",
      "32a3bf087ece4c7e805e1762aa0a1bb5",
      "7611e55b6d754ffc811e2553c0de68aa",
      "4bc7fec8371241ea994a32d594e6eaef",
      "cd42db83fbe7466ab4a8d02ab01d68da"
     ]
    },
    "id": "72830b7f",
    "outputId": "7ae429fb-7323-4978-a9fb-3c2dfec1374a"
   },
   "outputs": [
    {
     "name": "stdout",
     "output_type": "stream",
     "text": [
      "CNN(\n",
      "  (conv1): Conv2d(1, 16, kernel_size=(9, 9), stride=(1, 1))\n",
      "  (fc1): Linear(in_features=16, out_features=7, bias=True)\n",
      ")\n",
      " number of parameters: 1431\n"
     ]
    },
    {
     "data": {
      "application/vnd.jupyter.widget-view+json": {
       "model_id": "7a2ff93cc8da4de0ad8d96e0dffc5a80",
       "version_major": 2,
       "version_minor": 0
      },
      "text/plain": [
       "  0%|          | 0/400 [00:00<?, ?it/s]"
      ]
     },
     "metadata": {},
     "output_type": "display_data"
    },
    {
     "name": "stdout",
     "output_type": "stream",
     "text": [
      "1.0\n"
     ]
    }
   ],
   "source": [
    "cnn = CNN()\n",
    "cnn.to(device)\n",
    "print(cnn)\n",
    "print(f\" number of parameters: {sum(p.numel() for p in cnn.parameters() if p.requires_grad)}\")\n",
    "\n",
    "learning_rate = 0.01\n",
    "total_epoch = 400\n",
    "\n",
    "optimizer = optim.Adagrad(cnn.parameters(), lr=learning_rate)\n",
    "criterion = torch.nn.CrossEntropyLoss(reduction='mean')\n",
    "train(model=cnn, optimizer=optimizer, criterion=criterion, train_dataset=tetris_500, total_epoch=total_epoch)\n",
    "accuracy = evaluate(model=cnn, criterion=criterion, test_dataset=test_set)\n",
    "\n",
    "print(accuracy)"
   ]
  },
  {
   "cell_type": "code",
   "execution_count": 27,
   "id": "ddd73ff8",
   "metadata": {
    "colab": {
     "base_uri": "https://localhost:8080/",
     "height": 153,
     "referenced_widgets": [
      "3afe76be0942482d96e863be92c4d88e",
      "fb42aaa5010f4ddf838d19d3d271e182",
      "3b437003c86946bdbfa32a21c62073bb",
      "cd12f293d1c24f19ab25b35045d361ac",
      "af8b2a3de8664680a4c86f1bdfd56410",
      "72201f1a0cf14698b50d94f2e0a7d1d6",
      "082ee9fe7af04249b24faf712a40f5fd",
      "193cc282e07e47efb498df866657d3b3",
      "a20ee8e9666840a083c98089fdf151c8",
      "b915a04c7e61462fad323d04889a0e52",
      "de6c4f26f8914c77b52b274e7b14d810"
     ]
    },
    "id": "4ec92ba5",
    "outputId": "bc77e3a4-1b28-41ea-c016-340d0a031962"
   },
   "outputs": [
    {
     "name": "stdout",
     "output_type": "stream",
     "text": [
      "CNN(\n",
      "  (conv1): Conv2d(1, 16, kernel_size=(9, 9), stride=(1, 1))\n",
      "  (fc1): Linear(in_features=16, out_features=7, bias=True)\n",
      ")\n",
      " number of parameters: 1431\n"
     ]
    },
    {
     "data": {
      "application/vnd.jupyter.widget-view+json": {
       "model_id": "3afe76be0942482d96e863be92c4d88e",
       "version_major": 2,
       "version_minor": 0
      },
      "text/plain": [
       "  0%|          | 0/800 [00:00<?, ?it/s]"
      ]
     },
     "metadata": {},
     "output_type": "display_data"
    },
    {
     "name": "stdout",
     "output_type": "stream",
     "text": [
      "1.0\n"
     ]
    }
   ],
   "source": [
    "cnn = CNN()\n",
    "cnn.to(device)\n",
    "print(cnn)\n",
    "print(f\" number of parameters: {sum(p.numel() for p in cnn.parameters() if p.requires_grad)}\")\n",
    "\n",
    "learning_rate = 0.01\n",
    "total_epoch = 800\n",
    "\n",
    "optimizer = optim.Adagrad(cnn.parameters(), lr=learning_rate)\n",
    "criterion = torch.nn.CrossEntropyLoss(reduction='mean')\n",
    "train(model=cnn, optimizer=optimizer, criterion=criterion, train_dataset=tetris_500, total_epoch=total_epoch)\n",
    "accuracy = evaluate(model=cnn, criterion=criterion, test_dataset=test_set)\n",
    "\n",
    "print(accuracy)"
   ]
  },
  {
   "cell_type": "markdown",
   "id": "30485e18",
   "metadata": {
    "id": "c1356892"
   },
   "source": [
    "Describe your analysis here"
   ]
  },
  {
   "cell_type": "markdown",
   "id": "df1f10b0",
   "metadata": {
    "id": "4c5cc91a"
   },
   "source": [
    "---"
   ]
  },
  {
   "cell_type": "markdown",
   "id": "4fa101b2",
   "metadata": {
    "id": "087bf940"
   },
   "source": [
    "### P2.2"
   ]
  },
  {
   "cell_type": "code",
   "execution_count": 28,
   "id": "6d710c70",
   "metadata": {
    "id": "4d4a9021"
   },
   "outputs": [],
   "source": [
    "from project9 import DeeperCNN"
   ]
  },
  {
   "cell_type": "code",
   "execution_count": 29,
   "id": "d346c118",
   "metadata": {
    "colab": {
     "base_uri": "https://localhost:8080/",
     "height": 257,
     "referenced_widgets": [
      "0fd156f391d14924a656aeb420966efd",
      "509c7df34a8f4222818b2304a0dd10ea",
      "8f7c8cb860114c15867feb597b476a2f",
      "89f49a53e726465dbb7ec19f39e7619c",
      "b7fef78f126941acb1264aaaedd4eeab",
      "ef7541662c074ff2aca1ddfac4888def",
      "c959a896b9bc40eebcf7c58bd1d2a63f",
      "2551608c5d4041bb8f8c1350282a5b87",
      "7b76f7c6734d4f4d9425ad1a65317bd6",
      "d2930118b66b4245a8ec6321bfc27312",
      "9af581c7e01e49db953a77351ff65a6e"
     ]
    },
    "id": "6a914e2e",
    "outputId": "7184c974-8a34-464b-a6aa-f0ea18b2d7af"
   },
   "outputs": [
    {
     "name": "stdout",
     "output_type": "stream",
     "text": [
      "DeeperCNN(\n",
      "  (conv1): Conv2d(1, 4, kernel_size=(3, 3), stride=(1, 1), padding=(1, 1))\n",
      "  (conv2): Conv2d(4, 4, kernel_size=(3, 3), stride=(1, 1), padding=(1, 1))\n",
      "  (conv3): Conv2d(4, 8, kernel_size=(3, 3), stride=(1, 1), padding=(1, 1))\n",
      "  (conv4): Conv2d(8, 8, kernel_size=(3, 3), stride=(1, 1), padding=(1, 1))\n",
      "  (conv5): Conv2d(8, 16, kernel_size=(3, 3), stride=(1, 1), padding=(1, 1))\n",
      "  (conv6): Conv2d(16, 16, kernel_size=(3, 3), stride=(1, 1), padding=(1, 1))\n",
      "  (fc1): Linear(in_features=16, out_features=8, bias=True)\n",
      "  (fc2): Linear(in_features=8, out_features=7, bias=True)\n",
      ")\n",
      " number of parameters: 4755\n"
     ]
    },
    {
     "data": {
      "application/vnd.jupyter.widget-view+json": {
       "model_id": "0fd156f391d14924a656aeb420966efd",
       "version_major": 2,
       "version_minor": 0
      },
      "text/plain": [
       "  0%|          | 0/200 [00:00<?, ?it/s]"
      ]
     },
     "metadata": {},
     "output_type": "display_data"
    },
    {
     "name": "stdout",
     "output_type": "stream",
     "text": [
      "0.9949999999999999\n"
     ]
    }
   ],
   "source": [
    "### CODE HERE ###\n",
    "raise NotImplementedError(\"Erase this line and write down your code.\")\n",
    "#################"
   ]
  },
  {
   "cell_type": "markdown",
   "id": "25cf067a",
   "metadata": {
    "id": "e6a7a97f"
   },
   "source": [
    "Describe your analysis here"
   ]
  },
  {
   "cell_type": "markdown",
   "id": "1f934a26",
   "metadata": {
    "id": "33d34c96"
   },
   "source": [
    "---"
   ]
  },
  {
   "cell_type": "markdown",
   "id": "12585912",
   "metadata": {
    "id": "10d4186d"
   },
   "source": [
    "### P3.1"
   ]
  },
  {
   "cell_type": "code",
   "execution_count": 30,
   "id": "e1f8dc8f",
   "metadata": {
    "id": "918a68e9"
   },
   "outputs": [],
   "source": [
    "batch_size = 20\n",
    "random_position = False\n",
    "random_scale = False\n",
    "random_rotation = False\n",
    "\n",
    "train_num = 1000\n",
    "train_set_without_randomness = make_tetris_dataset(train_num, batch_size, random_position, random_scale, random_rotation)"
   ]
  },
  {
   "cell_type": "code",
   "execution_count": 31,
   "id": "bcfd2784",
   "metadata": {
    "colab": {
     "base_uri": "https://localhost:8080/",
     "height": 171,
     "referenced_widgets": [
      "648d50bc9b0d4268bd19f2ac0e131de2",
      "17d62325982f4e5081c4db1361087ab4",
      "c4607144a45942618cc14aca8ab6ea4e",
      "c7ddcae957c7489ab36b45598261a499",
      "94299100e60745659f13cde735ab6b84",
      "9b4d26fa50ed408abe9d87889689c852",
      "e45160f8471248d28e01c36b62abcf3d",
      "54346be0e3bb423d88c09845f0ce408d",
      "8b1e9965e7704699991d1f2444b6a538",
      "9d29e8f64ed74c589c240feef2e7c917",
      "400ac629a99c4632a4e33820421aa070"
     ]
    },
    "id": "6733e188",
    "outputId": "8cad8285-e6b0-4363-957a-0fbf2e557146"
   },
   "outputs": [
    {
     "name": "stdout",
     "output_type": "stream",
     "text": [
      "MLP(\n",
      "  (fc1): Linear(in_features=1024, out_features=64, bias=True)\n",
      "  (fc2): Linear(in_features=64, out_features=8, bias=True)\n",
      "  (fc3): Linear(in_features=8, out_features=7, bias=True)\n",
      ")\n",
      " number of parameters: 66183\n"
     ]
    },
    {
     "data": {
      "application/vnd.jupyter.widget-view+json": {
       "model_id": "648d50bc9b0d4268bd19f2ac0e131de2",
       "version_major": 2,
       "version_minor": 0
      },
      "text/plain": [
       "  0%|          | 0/600 [00:00<?, ?it/s]"
      ]
     },
     "metadata": {},
     "output_type": "display_data"
    },
    {
     "name": "stdout",
     "output_type": "stream",
     "text": [
      "0.14000000000000004\n"
     ]
    }
   ],
   "source": [
    "mlp = MLP()\n",
    "mlp.to(device)\n",
    "print(mlp)\n",
    "print(f\" number of parameters: {sum(p.numel() for p in mlp.parameters() if p.requires_grad)}\")\n",
    "\n",
    "learning_rate = 0.01\n",
    "total_epoch = 600\n",
    "\n",
    "optimizer = optim.Adagrad(mlp.parameters(), lr=learning_rate)\n",
    "criterion = torch.nn.CrossEntropyLoss(reduction='mean')\n",
    "train(model=mlp, optimizer=optimizer, criterion=criterion, train_dataset=train_set_without_randomness, total_epoch=total_epoch)\n",
    "accuracy = evaluate(model=mlp, criterion=criterion, test_dataset=test_set)\n",
    "\n",
    "print(accuracy)"
   ]
  },
  {
   "cell_type": "code",
   "execution_count": 32,
   "id": "e417de0c",
   "metadata": {
    "colab": {
     "base_uri": "https://localhost:8080/",
     "height": 153,
     "referenced_widgets": [
      "d9511de1cadd45049d90f5b776d481d5",
      "a55a30c2f6dd49c5821f202f53eae5cd",
      "082d9be26f144b5d98be7f7e3a7c7868",
      "157790fed4944f6ba16f7ee0e01ce27b",
      "0b2891151776498e912fb9bbe9991c24",
      "3302ebc6ce624ad98a6a3d1b1b3e934c",
      "8bf19bc276674529a60ae70966bc8a83",
      "263ebb6d7c1e490892f180938bf05e77",
      "309e2ae5f3f64f5380879ad108e1760f",
      "12d66f7233fa4ba68b9d12f864e3420b",
      "eed2ec1a8c6143b9b6df8cb8e56a660b"
     ]
    },
    "id": "1fd2a35a",
    "outputId": "feb0ff16-68a9-462b-b804-593f24b8d639"
   },
   "outputs": [
    {
     "name": "stdout",
     "output_type": "stream",
     "text": [
      "CNN(\n",
      "  (conv1): Conv2d(1, 16, kernel_size=(9, 9), stride=(1, 1))\n",
      "  (fc1): Linear(in_features=16, out_features=7, bias=True)\n",
      ")\n",
      " number of parameters: 1431\n"
     ]
    },
    {
     "data": {
      "application/vnd.jupyter.widget-view+json": {
       "model_id": "d9511de1cadd45049d90f5b776d481d5",
       "version_major": 2,
       "version_minor": 0
      },
      "text/plain": [
       "  0%|          | 0/400 [00:00<?, ?it/s]"
      ]
     },
     "metadata": {},
     "output_type": "display_data"
    },
    {
     "name": "stdout",
     "output_type": "stream",
     "text": [
      "0.945\n"
     ]
    }
   ],
   "source": [
    "cnn = CNN()\n",
    "cnn.to(device)\n",
    "print(cnn)\n",
    "print(f\" number of parameters: {sum(p.numel() for p in cnn.parameters() if p.requires_grad)}\")\n",
    "\n",
    "learning_rate = 0.01\n",
    "total_epoch = 400\n",
    "\n",
    "optimizer = optim.Adagrad(cnn.parameters(), lr=learning_rate)\n",
    "criterion = torch.nn.CrossEntropyLoss(reduction='mean')\n",
    "train(model=cnn, optimizer=optimizer, criterion=criterion, train_dataset=train_set_without_randomness, total_epoch=total_epoch)\n",
    "accuracy = evaluate(model=cnn, criterion=criterion, test_dataset=test_set)\n",
    "\n",
    "print(accuracy)"
   ]
  },
  {
   "cell_type": "markdown",
   "id": "ffb160f5",
   "metadata": {
    "id": "22c1c6f8"
   },
   "source": [
    "Describe your analysis here"
   ]
  },
  {
   "cell_type": "markdown",
   "id": "8133fb77",
   "metadata": {
    "id": "addcfb37"
   },
   "source": [
    "---"
   ]
  },
  {
   "cell_type": "markdown",
   "id": "51cb1425",
   "metadata": {
    "id": "9a8b6d7c"
   },
   "source": [
    "### P3.2"
   ]
  },
  {
   "cell_type": "code",
   "execution_count": null,
   "id": "142e46f4",
   "metadata": {
    "id": "829cd4dd"
   },
   "outputs": [],
   "source": [
    "### CODE HERE ###\n",
    "raise NotImplementedError(\"Erase this line and write down your code.\")\n",
    "#################"
   ]
  },
  {
   "cell_type": "markdown",
   "id": "ad2333c3",
   "metadata": {
    "id": "ed01b2f4"
   },
   "source": [
    "Describe your analysis here"
   ]
  },
  {
   "cell_type": "markdown",
   "id": "867d4fb0",
   "metadata": {
    "id": "687cdfd5"
   },
   "source": [
    "---"
   ]
  },
  {
   "cell_type": "markdown",
   "id": "08ca34f9",
   "metadata": {
    "id": "d630c188"
   },
   "source": [
    "### P3.3"
   ]
  },
  {
   "cell_type": "code",
   "execution_count": null,
   "id": "5da30350",
   "metadata": {
    "id": "fee11a7b"
   },
   "outputs": [],
   "source": [
    "### CODE HERE ###\n",
    "raise NotImplementedError(\"Erase this line and write down your code.\")\n",
    "#################"
   ]
  },
  {
   "cell_type": "markdown",
   "id": "a727b67c",
   "metadata": {
    "id": "c74a4850"
   },
   "source": [
    "Descrieb your analysis here"
   ]
  },
  {
   "cell_type": "markdown",
   "id": "3128287f",
   "metadata": {
    "id": "a3536fd3"
   },
   "source": [
    "---"
   ]
  }
 ],
 "metadata": {
  "accelerator": "GPU",
  "colab": {
   "collapsed_sections": [
    "1b5fddf0"
   ],
   "name": "2021_P09_convolutional_neural_networks.ipynb",
   "provenance": []
  },
  "kernelspec": {
   "display_name": "Python 3 (ipykernel)",
   "language": "python",
   "name": "python3"
  },
  "language_info": {
   "codemirror_mode": {
    "name": "ipython",
    "version": 3
   },
   "file_extension": ".py",
   "mimetype": "text/x-python",
   "name": "python",
   "nbconvert_exporter": "python",
   "pygments_lexer": "ipython3",
   "version": "3.8.8"
  },
  "widgets": {
   "application/vnd.jupyter.widget-state+json": {
    "07ec248ecf774de7a5b7a3cf97b1d6a0": {
     "model_module": "@jupyter-widgets/base",
     "model_module_version": "1.2.0",
     "model_name": "LayoutModel",
     "state": {
      "_model_module": "@jupyter-widgets/base",
      "_model_module_version": "1.2.0",
      "_model_name": "LayoutModel",
      "_view_count": null,
      "_view_module": "@jupyter-widgets/base",
      "_view_module_version": "1.2.0",
      "_view_name": "LayoutView",
      "align_content": null,
      "align_items": null,
      "align_self": null,
      "border": null,
      "bottom": null,
      "display": null,
      "flex": null,
      "flex_flow": null,
      "grid_area": null,
      "grid_auto_columns": null,
      "grid_auto_flow": null,
      "grid_auto_rows": null,
      "grid_column": null,
      "grid_gap": null,
      "grid_row": null,
      "grid_template_areas": null,
      "grid_template_columns": null,
      "grid_template_rows": null,
      "height": null,
      "justify_content": null,
      "justify_items": null,
      "left": null,
      "margin": null,
      "max_height": null,
      "max_width": null,
      "min_height": null,
      "min_width": null,
      "object_fit": null,
      "object_position": null,
      "order": null,
      "overflow": null,
      "overflow_x": null,
      "overflow_y": null,
      "padding": null,
      "right": null,
      "top": null,
      "visibility": null,
      "width": null
     }
    },
    "082d9be26f144b5d98be7f7e3a7c7868": {
     "model_module": "@jupyter-widgets/controls",
     "model_module_version": "1.5.0",
     "model_name": "HTMLModel",
     "state": {
      "_dom_classes": [],
      "_model_module": "@jupyter-widgets/controls",
      "_model_module_version": "1.5.0",
      "_model_name": "HTMLModel",
      "_view_count": null,
      "_view_module": "@jupyter-widgets/controls",
      "_view_module_version": "1.5.0",
      "_view_name": "HTMLView",
      "description": "",
      "description_tooltip": null,
      "layout": "IPY_MODEL_8bf19bc276674529a60ae70966bc8a83",
      "placeholder": "​",
      "style": "IPY_MODEL_3302ebc6ce624ad98a6a3d1b1b3e934c",
      "value": "400-th epoch, loss: 0.0018, train accuracy: 1.00: 100%"
     }
    },
    "082ee9fe7af04249b24faf712a40f5fd": {
     "model_module": "@jupyter-widgets/base",
     "model_module_version": "1.2.0",
     "model_name": "LayoutModel",
     "state": {
      "_model_module": "@jupyter-widgets/base",
      "_model_module_version": "1.2.0",
      "_model_name": "LayoutModel",
      "_view_count": null,
      "_view_module": "@jupyter-widgets/base",
      "_view_module_version": "1.2.0",
      "_view_name": "LayoutView",
      "align_content": null,
      "align_items": null,
      "align_self": null,
      "border": null,
      "bottom": null,
      "display": null,
      "flex": null,
      "flex_flow": null,
      "grid_area": null,
      "grid_auto_columns": null,
      "grid_auto_flow": null,
      "grid_auto_rows": null,
      "grid_column": null,
      "grid_gap": null,
      "grid_row": null,
      "grid_template_areas": null,
      "grid_template_columns": null,
      "grid_template_rows": null,
      "height": null,
      "justify_content": null,
      "justify_items": null,
      "left": null,
      "margin": null,
      "max_height": null,
      "max_width": null,
      "min_height": null,
      "min_width": null,
      "object_fit": null,
      "object_position": null,
      "order": null,
      "overflow": null,
      "overflow_x": null,
      "overflow_y": null,
      "padding": null,
      "right": null,
      "top": null,
      "visibility": null,
      "width": null
     }
    },
    "08658c64887c4db3bd959398960dc5ec": {
     "model_module": "@jupyter-widgets/controls",
     "model_module_version": "1.5.0",
     "model_name": "HBoxModel",
     "state": {
      "_dom_classes": [],
      "_model_module": "@jupyter-widgets/controls",
      "_model_module_version": "1.5.0",
      "_model_name": "HBoxModel",
      "_view_count": null,
      "_view_module": "@jupyter-widgets/controls",
      "_view_module_version": "1.5.0",
      "_view_name": "HBoxView",
      "box_style": "",
      "children": [
       "IPY_MODEL_8b680df52b5e44dc97d5319f45957edb",
       "IPY_MODEL_cdc40afbebfc4d1f89324bffc67c37f1",
       "IPY_MODEL_d7c9e8726f754cbf864ba71738c3f2bf"
      ],
      "layout": "IPY_MODEL_3cd3f9ffc8454c1d9d8bde82c10699b6"
     }
    },
    "0b2891151776498e912fb9bbe9991c24": {
     "model_module": "@jupyter-widgets/controls",
     "model_module_version": "1.5.0",
     "model_name": "HTMLModel",
     "state": {
      "_dom_classes": [],
      "_model_module": "@jupyter-widgets/controls",
      "_model_module_version": "1.5.0",
      "_model_name": "HTMLModel",
      "_view_count": null,
      "_view_module": "@jupyter-widgets/controls",
      "_view_module_version": "1.5.0",
      "_view_name": "HTMLView",
      "description": "",
      "description_tooltip": null,
      "layout": "IPY_MODEL_eed2ec1a8c6143b9b6df8cb8e56a660b",
      "placeholder": "​",
      "style": "IPY_MODEL_12d66f7233fa4ba68b9d12f864e3420b",
      "value": " 400/400 [00:35&lt;00:00, 11.78it/s]"
     }
    },
    "0fd156f391d14924a656aeb420966efd": {
     "model_module": "@jupyter-widgets/controls",
     "model_module_version": "1.5.0",
     "model_name": "HBoxModel",
     "state": {
      "_dom_classes": [],
      "_model_module": "@jupyter-widgets/controls",
      "_model_module_version": "1.5.0",
      "_model_name": "HBoxModel",
      "_view_count": null,
      "_view_module": "@jupyter-widgets/controls",
      "_view_module_version": "1.5.0",
      "_view_name": "HBoxView",
      "box_style": "",
      "children": [
       "IPY_MODEL_8f7c8cb860114c15867feb597b476a2f",
       "IPY_MODEL_89f49a53e726465dbb7ec19f39e7619c",
       "IPY_MODEL_b7fef78f126941acb1264aaaedd4eeab"
      ],
      "layout": "IPY_MODEL_509c7df34a8f4222818b2304a0dd10ea"
     }
    },
    "12d66f7233fa4ba68b9d12f864e3420b": {
     "model_module": "@jupyter-widgets/controls",
     "model_module_version": "1.5.0",
     "model_name": "DescriptionStyleModel",
     "state": {
      "_model_module": "@jupyter-widgets/controls",
      "_model_module_version": "1.5.0",
      "_model_name": "DescriptionStyleModel",
      "_view_count": null,
      "_view_module": "@jupyter-widgets/base",
      "_view_module_version": "1.2.0",
      "_view_name": "StyleView",
      "description_width": ""
     }
    },
    "152d0438d8ad4773906d1ea6cb80aacc": {
     "model_module": "@jupyter-widgets/controls",
     "model_module_version": "1.5.0",
     "model_name": "FloatProgressModel",
     "state": {
      "_dom_classes": [],
      "_model_module": "@jupyter-widgets/controls",
      "_model_module_version": "1.5.0",
      "_model_name": "FloatProgressModel",
      "_view_count": null,
      "_view_module": "@jupyter-widgets/controls",
      "_view_module_version": "1.5.0",
      "_view_name": "ProgressView",
      "bar_style": "success",
      "description": "",
      "description_tooltip": null,
      "layout": "IPY_MODEL_eae292819367400eb56d12e3d6c93219",
      "max": 400,
      "min": 0,
      "orientation": "horizontal",
      "style": "IPY_MODEL_3de0529533d2431bb8efc69d6f95a3de",
      "value": 400
     }
    },
    "157790fed4944f6ba16f7ee0e01ce27b": {
     "model_module": "@jupyter-widgets/controls",
     "model_module_version": "1.5.0",
     "model_name": "FloatProgressModel",
     "state": {
      "_dom_classes": [],
      "_model_module": "@jupyter-widgets/controls",
      "_model_module_version": "1.5.0",
      "_model_name": "FloatProgressModel",
      "_view_count": null,
      "_view_module": "@jupyter-widgets/controls",
      "_view_module_version": "1.5.0",
      "_view_name": "ProgressView",
      "bar_style": "success",
      "description": "",
      "description_tooltip": null,
      "layout": "IPY_MODEL_309e2ae5f3f64f5380879ad108e1760f",
      "max": 400,
      "min": 0,
      "orientation": "horizontal",
      "style": "IPY_MODEL_263ebb6d7c1e490892f180938bf05e77",
      "value": 400
     }
    },
    "16706e18df734b41bf6faea83bf045b1": {
     "model_module": "@jupyter-widgets/controls",
     "model_module_version": "1.5.0",
     "model_name": "DescriptionStyleModel",
     "state": {
      "_model_module": "@jupyter-widgets/controls",
      "_model_module_version": "1.5.0",
      "_model_name": "DescriptionStyleModel",
      "_view_count": null,
      "_view_module": "@jupyter-widgets/base",
      "_view_module_version": "1.2.0",
      "_view_name": "StyleView",
      "description_width": ""
     }
    },
    "17d62325982f4e5081c4db1361087ab4": {
     "model_module": "@jupyter-widgets/base",
     "model_module_version": "1.2.0",
     "model_name": "LayoutModel",
     "state": {
      "_model_module": "@jupyter-widgets/base",
      "_model_module_version": "1.2.0",
      "_model_name": "LayoutModel",
      "_view_count": null,
      "_view_module": "@jupyter-widgets/base",
      "_view_module_version": "1.2.0",
      "_view_name": "LayoutView",
      "align_content": null,
      "align_items": null,
      "align_self": null,
      "border": null,
      "bottom": null,
      "display": null,
      "flex": null,
      "flex_flow": null,
      "grid_area": null,
      "grid_auto_columns": null,
      "grid_auto_flow": null,
      "grid_auto_rows": null,
      "grid_column": null,
      "grid_gap": null,
      "grid_row": null,
      "grid_template_areas": null,
      "grid_template_columns": null,
      "grid_template_rows": null,
      "height": null,
      "justify_content": null,
      "justify_items": null,
      "left": null,
      "margin": null,
      "max_height": null,
      "max_width": null,
      "min_height": null,
      "min_width": null,
      "object_fit": null,
      "object_position": null,
      "order": null,
      "overflow": null,
      "overflow_x": null,
      "overflow_y": null,
      "padding": null,
      "right": null,
      "top": null,
      "visibility": null,
      "width": null
     }
    },
    "193cc282e07e47efb498df866657d3b3": {
     "model_module": "@jupyter-widgets/controls",
     "model_module_version": "1.5.0",
     "model_name": "ProgressStyleModel",
     "state": {
      "_model_module": "@jupyter-widgets/controls",
      "_model_module_version": "1.5.0",
      "_model_name": "ProgressStyleModel",
      "_view_count": null,
      "_view_module": "@jupyter-widgets/base",
      "_view_module_version": "1.2.0",
      "_view_name": "StyleView",
      "bar_color": null,
      "description_width": ""
     }
    },
    "1a3b668636bb4208aa2130093bdc6fd5": {
     "model_module": "@jupyter-widgets/controls",
     "model_module_version": "1.5.0",
     "model_name": "HBoxModel",
     "state": {
      "_dom_classes": [],
      "_model_module": "@jupyter-widgets/controls",
      "_model_module_version": "1.5.0",
      "_model_name": "HBoxModel",
      "_view_count": null,
      "_view_module": "@jupyter-widgets/controls",
      "_view_module_version": "1.5.0",
      "_view_name": "HBoxView",
      "box_style": "",
      "children": [
       "IPY_MODEL_31c4d9dcfafd4c739766a4278b6b4709",
       "IPY_MODEL_5f7f11c1936f4cd3a76fec8bc9856ef1",
       "IPY_MODEL_c4ba642d2e7c4530980a7f3a52cd56a4"
      ],
      "layout": "IPY_MODEL_1b3f1ba62a014b2aaed2f8405e2ae880"
     }
    },
    "1b3f1ba62a014b2aaed2f8405e2ae880": {
     "model_module": "@jupyter-widgets/base",
     "model_module_version": "1.2.0",
     "model_name": "LayoutModel",
     "state": {
      "_model_module": "@jupyter-widgets/base",
      "_model_module_version": "1.2.0",
      "_model_name": "LayoutModel",
      "_view_count": null,
      "_view_module": "@jupyter-widgets/base",
      "_view_module_version": "1.2.0",
      "_view_name": "LayoutView",
      "align_content": null,
      "align_items": null,
      "align_self": null,
      "border": null,
      "bottom": null,
      "display": null,
      "flex": null,
      "flex_flow": null,
      "grid_area": null,
      "grid_auto_columns": null,
      "grid_auto_flow": null,
      "grid_auto_rows": null,
      "grid_column": null,
      "grid_gap": null,
      "grid_row": null,
      "grid_template_areas": null,
      "grid_template_columns": null,
      "grid_template_rows": null,
      "height": null,
      "justify_content": null,
      "justify_items": null,
      "left": null,
      "margin": null,
      "max_height": null,
      "max_width": null,
      "min_height": null,
      "min_width": null,
      "object_fit": null,
      "object_position": null,
      "order": null,
      "overflow": null,
      "overflow_x": null,
      "overflow_y": null,
      "padding": null,
      "right": null,
      "top": null,
      "visibility": null,
      "width": null
     }
    },
    "21c2e3feba5f44db96d76fac182a4e2c": {
     "model_module": "@jupyter-widgets/controls",
     "model_module_version": "1.5.0",
     "model_name": "ProgressStyleModel",
     "state": {
      "_model_module": "@jupyter-widgets/controls",
      "_model_module_version": "1.5.0",
      "_model_name": "ProgressStyleModel",
      "_view_count": null,
      "_view_module": "@jupyter-widgets/base",
      "_view_module_version": "1.2.0",
      "_view_name": "StyleView",
      "bar_color": null,
      "description_width": ""
     }
    },
    "2551608c5d4041bb8f8c1350282a5b87": {
     "model_module": "@jupyter-widgets/controls",
     "model_module_version": "1.5.0",
     "model_name": "ProgressStyleModel",
     "state": {
      "_model_module": "@jupyter-widgets/controls",
      "_model_module_version": "1.5.0",
      "_model_name": "ProgressStyleModel",
      "_view_count": null,
      "_view_module": "@jupyter-widgets/base",
      "_view_module_version": "1.2.0",
      "_view_name": "StyleView",
      "bar_color": null,
      "description_width": ""
     }
    },
    "2628877386e84c75b88857d7d241638d": {
     "model_module": "@jupyter-widgets/base",
     "model_module_version": "1.2.0",
     "model_name": "LayoutModel",
     "state": {
      "_model_module": "@jupyter-widgets/base",
      "_model_module_version": "1.2.0",
      "_model_name": "LayoutModel",
      "_view_count": null,
      "_view_module": "@jupyter-widgets/base",
      "_view_module_version": "1.2.0",
      "_view_name": "LayoutView",
      "align_content": null,
      "align_items": null,
      "align_self": null,
      "border": null,
      "bottom": null,
      "display": null,
      "flex": null,
      "flex_flow": null,
      "grid_area": null,
      "grid_auto_columns": null,
      "grid_auto_flow": null,
      "grid_auto_rows": null,
      "grid_column": null,
      "grid_gap": null,
      "grid_row": null,
      "grid_template_areas": null,
      "grid_template_columns": null,
      "grid_template_rows": null,
      "height": null,
      "justify_content": null,
      "justify_items": null,
      "left": null,
      "margin": null,
      "max_height": null,
      "max_width": null,
      "min_height": null,
      "min_width": null,
      "object_fit": null,
      "object_position": null,
      "order": null,
      "overflow": null,
      "overflow_x": null,
      "overflow_y": null,
      "padding": null,
      "right": null,
      "top": null,
      "visibility": null,
      "width": null
     }
    },
    "263ebb6d7c1e490892f180938bf05e77": {
     "model_module": "@jupyter-widgets/controls",
     "model_module_version": "1.5.0",
     "model_name": "ProgressStyleModel",
     "state": {
      "_model_module": "@jupyter-widgets/controls",
      "_model_module_version": "1.5.0",
      "_model_name": "ProgressStyleModel",
      "_view_count": null,
      "_view_module": "@jupyter-widgets/base",
      "_view_module_version": "1.2.0",
      "_view_name": "StyleView",
      "bar_color": null,
      "description_width": ""
     }
    },
    "2eeeaf69b9c9421cae3734c46c303f44": {
     "model_module": "@jupyter-widgets/controls",
     "model_module_version": "1.5.0",
     "model_name": "HTMLModel",
     "state": {
      "_dom_classes": [],
      "_model_module": "@jupyter-widgets/controls",
      "_model_module_version": "1.5.0",
      "_model_name": "HTMLModel",
      "_view_count": null,
      "_view_module": "@jupyter-widgets/controls",
      "_view_module_version": "1.5.0",
      "_view_name": "HTMLView",
      "description": "",
      "description_tooltip": null,
      "layout": "IPY_MODEL_bbbef0a0da5e4a69afc41b77954bf6f3",
      "placeholder": "​",
      "style": "IPY_MODEL_ccd28704434b4ff3bd0df2eeb99bbce8",
      "value": " 200/200 [00:36&lt;00:00,  5.54it/s]"
     }
    },
    "2f89a8a89a984cf3a19e44fd08a1694c": {
     "model_module": "@jupyter-widgets/controls",
     "model_module_version": "1.5.0",
     "model_name": "HTMLModel",
     "state": {
      "_dom_classes": [],
      "_model_module": "@jupyter-widgets/controls",
      "_model_module_version": "1.5.0",
      "_model_name": "HTMLModel",
      "_view_count": null,
      "_view_module": "@jupyter-widgets/controls",
      "_view_module_version": "1.5.0",
      "_view_name": "HTMLView",
      "description": "",
      "description_tooltip": null,
      "layout": "IPY_MODEL_83cc0aed9c4d475388d6bb34a03b0b84",
      "placeholder": "​",
      "style": "IPY_MODEL_a3a3871d7f8a49ff94e44424770fd6bb",
      "value": " 400/400 [00:16&lt;00:00, 24.05it/s]"
     }
    },
    "309e2ae5f3f64f5380879ad108e1760f": {
     "model_module": "@jupyter-widgets/base",
     "model_module_version": "1.2.0",
     "model_name": "LayoutModel",
     "state": {
      "_model_module": "@jupyter-widgets/base",
      "_model_module_version": "1.2.0",
      "_model_name": "LayoutModel",
      "_view_count": null,
      "_view_module": "@jupyter-widgets/base",
      "_view_module_version": "1.2.0",
      "_view_name": "LayoutView",
      "align_content": null,
      "align_items": null,
      "align_self": null,
      "border": null,
      "bottom": null,
      "display": null,
      "flex": null,
      "flex_flow": null,
      "grid_area": null,
      "grid_auto_columns": null,
      "grid_auto_flow": null,
      "grid_auto_rows": null,
      "grid_column": null,
      "grid_gap": null,
      "grid_row": null,
      "grid_template_areas": null,
      "grid_template_columns": null,
      "grid_template_rows": null,
      "height": null,
      "justify_content": null,
      "justify_items": null,
      "left": null,
      "margin": null,
      "max_height": null,
      "max_width": null,
      "min_height": null,
      "min_width": null,
      "object_fit": null,
      "object_position": null,
      "order": null,
      "overflow": null,
      "overflow_x": null,
      "overflow_y": null,
      "padding": null,
      "right": null,
      "top": null,
      "visibility": null,
      "width": null
     }
    },
    "31c4d9dcfafd4c739766a4278b6b4709": {
     "model_module": "@jupyter-widgets/controls",
     "model_module_version": "1.5.0",
     "model_name": "HTMLModel",
     "state": {
      "_dom_classes": [],
      "_model_module": "@jupyter-widgets/controls",
      "_model_module_version": "1.5.0",
      "_model_name": "HTMLModel",
      "_view_count": null,
      "_view_module": "@jupyter-widgets/controls",
      "_view_module_version": "1.5.0",
      "_view_name": "HTMLView",
      "description": "",
      "description_tooltip": null,
      "layout": "IPY_MODEL_73ce3257471f4e3c92dadad06b229c8f",
      "placeholder": "​",
      "style": "IPY_MODEL_b75918859f3f4d67a94e04261dfcbb0c",
      "value": "800-th epoch, loss: 1.2482, train accuracy: 0.65: 100%"
     }
    },
    "32a3bf087ece4c7e805e1762aa0a1bb5": {
     "model_module": "@jupyter-widgets/controls",
     "model_module_version": "1.5.0",
     "model_name": "ProgressStyleModel",
     "state": {
      "_model_module": "@jupyter-widgets/controls",
      "_model_module_version": "1.5.0",
      "_model_name": "ProgressStyleModel",
      "_view_count": null,
      "_view_module": "@jupyter-widgets/base",
      "_view_module_version": "1.2.0",
      "_view_name": "StyleView",
      "bar_color": null,
      "description_width": ""
     }
    },
    "3302ebc6ce624ad98a6a3d1b1b3e934c": {
     "model_module": "@jupyter-widgets/controls",
     "model_module_version": "1.5.0",
     "model_name": "DescriptionStyleModel",
     "state": {
      "_model_module": "@jupyter-widgets/controls",
      "_model_module_version": "1.5.0",
      "_model_name": "DescriptionStyleModel",
      "_view_count": null,
      "_view_module": "@jupyter-widgets/base",
      "_view_module_version": "1.2.0",
      "_view_name": "StyleView",
      "description_width": ""
     }
    },
    "33d77df186a44582bbfdffc7d342b8ea": {
     "model_module": "@jupyter-widgets/base",
     "model_module_version": "1.2.0",
     "model_name": "LayoutModel",
     "state": {
      "_model_module": "@jupyter-widgets/base",
      "_model_module_version": "1.2.0",
      "_model_name": "LayoutModel",
      "_view_count": null,
      "_view_module": "@jupyter-widgets/base",
      "_view_module_version": "1.2.0",
      "_view_name": "LayoutView",
      "align_content": null,
      "align_items": null,
      "align_self": null,
      "border": null,
      "bottom": null,
      "display": null,
      "flex": null,
      "flex_flow": null,
      "grid_area": null,
      "grid_auto_columns": null,
      "grid_auto_flow": null,
      "grid_auto_rows": null,
      "grid_column": null,
      "grid_gap": null,
      "grid_row": null,
      "grid_template_areas": null,
      "grid_template_columns": null,
      "grid_template_rows": null,
      "height": null,
      "justify_content": null,
      "justify_items": null,
      "left": null,
      "margin": null,
      "max_height": null,
      "max_width": null,
      "min_height": null,
      "min_width": null,
      "object_fit": null,
      "object_position": null,
      "order": null,
      "overflow": null,
      "overflow_x": null,
      "overflow_y": null,
      "padding": null,
      "right": null,
      "top": null,
      "visibility": null,
      "width": null
     }
    },
    "3afe76be0942482d96e863be92c4d88e": {
     "model_module": "@jupyter-widgets/controls",
     "model_module_version": "1.5.0",
     "model_name": "HBoxModel",
     "state": {
      "_dom_classes": [],
      "_model_module": "@jupyter-widgets/controls",
      "_model_module_version": "1.5.0",
      "_model_name": "HBoxModel",
      "_view_count": null,
      "_view_module": "@jupyter-widgets/controls",
      "_view_module_version": "1.5.0",
      "_view_name": "HBoxView",
      "box_style": "",
      "children": [
       "IPY_MODEL_3b437003c86946bdbfa32a21c62073bb",
       "IPY_MODEL_cd12f293d1c24f19ab25b35045d361ac",
       "IPY_MODEL_af8b2a3de8664680a4c86f1bdfd56410"
      ],
      "layout": "IPY_MODEL_fb42aaa5010f4ddf838d19d3d271e182"
     }
    },
    "3b437003c86946bdbfa32a21c62073bb": {
     "model_module": "@jupyter-widgets/controls",
     "model_module_version": "1.5.0",
     "model_name": "HTMLModel",
     "state": {
      "_dom_classes": [],
      "_model_module": "@jupyter-widgets/controls",
      "_model_module_version": "1.5.0",
      "_model_name": "HTMLModel",
      "_view_count": null,
      "_view_module": "@jupyter-widgets/controls",
      "_view_module_version": "1.5.0",
      "_view_name": "HTMLView",
      "description": "",
      "description_tooltip": null,
      "layout": "IPY_MODEL_082ee9fe7af04249b24faf712a40f5fd",
      "placeholder": "​",
      "style": "IPY_MODEL_72201f1a0cf14698b50d94f2e0a7d1d6",
      "value": "800-th epoch, loss: 0.0035, train accuracy: 1.00: 100%"
     }
    },
    "3cd3f9ffc8454c1d9d8bde82c10699b6": {
     "model_module": "@jupyter-widgets/base",
     "model_module_version": "1.2.0",
     "model_name": "LayoutModel",
     "state": {
      "_model_module": "@jupyter-widgets/base",
      "_model_module_version": "1.2.0",
      "_model_name": "LayoutModel",
      "_view_count": null,
      "_view_module": "@jupyter-widgets/base",
      "_view_module_version": "1.2.0",
      "_view_name": "LayoutView",
      "align_content": null,
      "align_items": null,
      "align_self": null,
      "border": null,
      "bottom": null,
      "display": null,
      "flex": null,
      "flex_flow": null,
      "grid_area": null,
      "grid_auto_columns": null,
      "grid_auto_flow": null,
      "grid_auto_rows": null,
      "grid_column": null,
      "grid_gap": null,
      "grid_row": null,
      "grid_template_areas": null,
      "grid_template_columns": null,
      "grid_template_rows": null,
      "height": null,
      "justify_content": null,
      "justify_items": null,
      "left": null,
      "margin": null,
      "max_height": null,
      "max_width": null,
      "min_height": null,
      "min_width": null,
      "object_fit": null,
      "object_position": null,
      "order": null,
      "overflow": null,
      "overflow_x": null,
      "overflow_y": null,
      "padding": null,
      "right": null,
      "top": null,
      "visibility": null,
      "width": null
     }
    },
    "3de0529533d2431bb8efc69d6f95a3de": {
     "model_module": "@jupyter-widgets/controls",
     "model_module_version": "1.5.0",
     "model_name": "ProgressStyleModel",
     "state": {
      "_model_module": "@jupyter-widgets/controls",
      "_model_module_version": "1.5.0",
      "_model_name": "ProgressStyleModel",
      "_view_count": null,
      "_view_module": "@jupyter-widgets/base",
      "_view_module_version": "1.2.0",
      "_view_name": "StyleView",
      "bar_color": null,
      "description_width": ""
     }
    },
    "400ac629a99c4632a4e33820421aa070": {
     "model_module": "@jupyter-widgets/base",
     "model_module_version": "1.2.0",
     "model_name": "LayoutModel",
     "state": {
      "_model_module": "@jupyter-widgets/base",
      "_model_module_version": "1.2.0",
      "_model_name": "LayoutModel",
      "_view_count": null,
      "_view_module": "@jupyter-widgets/base",
      "_view_module_version": "1.2.0",
      "_view_name": "LayoutView",
      "align_content": null,
      "align_items": null,
      "align_self": null,
      "border": null,
      "bottom": null,
      "display": null,
      "flex": null,
      "flex_flow": null,
      "grid_area": null,
      "grid_auto_columns": null,
      "grid_auto_flow": null,
      "grid_auto_rows": null,
      "grid_column": null,
      "grid_gap": null,
      "grid_row": null,
      "grid_template_areas": null,
      "grid_template_columns": null,
      "grid_template_rows": null,
      "height": null,
      "justify_content": null,
      "justify_items": null,
      "left": null,
      "margin": null,
      "max_height": null,
      "max_width": null,
      "min_height": null,
      "min_width": null,
      "object_fit": null,
      "object_position": null,
      "order": null,
      "overflow": null,
      "overflow_x": null,
      "overflow_y": null,
      "padding": null,
      "right": null,
      "top": null,
      "visibility": null,
      "width": null
     }
    },
    "4bc7fec8371241ea994a32d594e6eaef": {
     "model_module": "@jupyter-widgets/controls",
     "model_module_version": "1.5.0",
     "model_name": "DescriptionStyleModel",
     "state": {
      "_model_module": "@jupyter-widgets/controls",
      "_model_module_version": "1.5.0",
      "_model_name": "DescriptionStyleModel",
      "_view_count": null,
      "_view_module": "@jupyter-widgets/base",
      "_view_module_version": "1.2.0",
      "_view_name": "StyleView",
      "description_width": ""
     }
    },
    "4ca5b7cf6a274ff7b4fa07d71987b714": {
     "model_module": "@jupyter-widgets/controls",
     "model_module_version": "1.5.0",
     "model_name": "HTMLModel",
     "state": {
      "_dom_classes": [],
      "_model_module": "@jupyter-widgets/controls",
      "_model_module_version": "1.5.0",
      "_model_name": "HTMLModel",
      "_view_count": null,
      "_view_module": "@jupyter-widgets/controls",
      "_view_module_version": "1.5.0",
      "_view_name": "HTMLView",
      "description": "",
      "description_tooltip": null,
      "layout": "IPY_MODEL_cd42db83fbe7466ab4a8d02ab01d68da",
      "placeholder": "​",
      "style": "IPY_MODEL_4bc7fec8371241ea994a32d594e6eaef",
      "value": " 400/400 [00:18&lt;00:00, 23.56it/s]"
     }
    },
    "509c7df34a8f4222818b2304a0dd10ea": {
     "model_module": "@jupyter-widgets/base",
     "model_module_version": "1.2.0",
     "model_name": "LayoutModel",
     "state": {
      "_model_module": "@jupyter-widgets/base",
      "_model_module_version": "1.2.0",
      "_model_name": "LayoutModel",
      "_view_count": null,
      "_view_module": "@jupyter-widgets/base",
      "_view_module_version": "1.2.0",
      "_view_name": "LayoutView",
      "align_content": null,
      "align_items": null,
      "align_self": null,
      "border": null,
      "bottom": null,
      "display": null,
      "flex": null,
      "flex_flow": null,
      "grid_area": null,
      "grid_auto_columns": null,
      "grid_auto_flow": null,
      "grid_auto_rows": null,
      "grid_column": null,
      "grid_gap": null,
      "grid_row": null,
      "grid_template_areas": null,
      "grid_template_columns": null,
      "grid_template_rows": null,
      "height": null,
      "justify_content": null,
      "justify_items": null,
      "left": null,
      "margin": null,
      "max_height": null,
      "max_width": null,
      "min_height": null,
      "min_width": null,
      "object_fit": null,
      "object_position": null,
      "order": null,
      "overflow": null,
      "overflow_x": null,
      "overflow_y": null,
      "padding": null,
      "right": null,
      "top": null,
      "visibility": null,
      "width": null
     }
    },
    "54346be0e3bb423d88c09845f0ce408d": {
     "model_module": "@jupyter-widgets/controls",
     "model_module_version": "1.5.0",
     "model_name": "ProgressStyleModel",
     "state": {
      "_model_module": "@jupyter-widgets/controls",
      "_model_module_version": "1.5.0",
      "_model_name": "ProgressStyleModel",
      "_view_count": null,
      "_view_module": "@jupyter-widgets/base",
      "_view_module_version": "1.2.0",
      "_view_name": "StyleView",
      "bar_color": null,
      "description_width": ""
     }
    },
    "576c3e277d744f9ab6740260bf89e787": {
     "model_module": "@jupyter-widgets/controls",
     "model_module_version": "1.5.0",
     "model_name": "HTMLModel",
     "state": {
      "_dom_classes": [],
      "_model_module": "@jupyter-widgets/controls",
      "_model_module_version": "1.5.0",
      "_model_name": "HTMLModel",
      "_view_count": null,
      "_view_module": "@jupyter-widgets/controls",
      "_view_module_version": "1.5.0",
      "_view_name": "HTMLView",
      "description": "",
      "description_tooltip": null,
      "layout": "IPY_MODEL_33d77df186a44582bbfdffc7d342b8ea",
      "placeholder": "​",
      "style": "IPY_MODEL_a488b92d10184729827bbdb7f0621caf",
      "value": "200-th epoch, loss: 0.1602, train accuracy: 0.95: 100%"
     }
    },
    "5ef752f2072f4438a744dcb6131c1ebd": {
     "model_module": "@jupyter-widgets/controls",
     "model_module_version": "1.5.0",
     "model_name": "HBoxModel",
     "state": {
      "_dom_classes": [],
      "_model_module": "@jupyter-widgets/controls",
      "_model_module_version": "1.5.0",
      "_model_name": "HBoxModel",
      "_view_count": null,
      "_view_module": "@jupyter-widgets/controls",
      "_view_module_version": "1.5.0",
      "_view_name": "HBoxView",
      "box_style": "",
      "children": [
       "IPY_MODEL_a4a35065f6414a92a1882666c510949e",
       "IPY_MODEL_152d0438d8ad4773906d1ea6cb80aacc",
       "IPY_MODEL_2f89a8a89a984cf3a19e44fd08a1694c"
      ],
      "layout": "IPY_MODEL_a98c491ac81b452eaf3cf2b4bebb7ec5"
     }
    },
    "5f7f11c1936f4cd3a76fec8bc9856ef1": {
     "model_module": "@jupyter-widgets/controls",
     "model_module_version": "1.5.0",
     "model_name": "FloatProgressModel",
     "state": {
      "_dom_classes": [],
      "_model_module": "@jupyter-widgets/controls",
      "_model_module_version": "1.5.0",
      "_model_name": "FloatProgressModel",
      "_view_count": null,
      "_view_module": "@jupyter-widgets/controls",
      "_view_module_version": "1.5.0",
      "_view_name": "ProgressView",
      "bar_style": "success",
      "description": "",
      "description_tooltip": null,
      "layout": "IPY_MODEL_db93059441964fe589267113e9541ba9",
      "max": 800,
      "min": 0,
      "orientation": "horizontal",
      "style": "IPY_MODEL_21c2e3feba5f44db96d76fac182a4e2c",
      "value": 800
     }
    },
    "60a94602d1744dec8efe9404781afb74": {
     "model_module": "@jupyter-widgets/base",
     "model_module_version": "1.2.0",
     "model_name": "LayoutModel",
     "state": {
      "_model_module": "@jupyter-widgets/base",
      "_model_module_version": "1.2.0",
      "_model_name": "LayoutModel",
      "_view_count": null,
      "_view_module": "@jupyter-widgets/base",
      "_view_module_version": "1.2.0",
      "_view_name": "LayoutView",
      "align_content": null,
      "align_items": null,
      "align_self": null,
      "border": null,
      "bottom": null,
      "display": null,
      "flex": null,
      "flex_flow": null,
      "grid_area": null,
      "grid_auto_columns": null,
      "grid_auto_flow": null,
      "grid_auto_rows": null,
      "grid_column": null,
      "grid_gap": null,
      "grid_row": null,
      "grid_template_areas": null,
      "grid_template_columns": null,
      "grid_template_rows": null,
      "height": null,
      "justify_content": null,
      "justify_items": null,
      "left": null,
      "margin": null,
      "max_height": null,
      "max_width": null,
      "min_height": null,
      "min_width": null,
      "object_fit": null,
      "object_position": null,
      "order": null,
      "overflow": null,
      "overflow_x": null,
      "overflow_y": null,
      "padding": null,
      "right": null,
      "top": null,
      "visibility": null,
      "width": null
     }
    },
    "632f6116f2904656be9ce5251af8747e": {
     "model_module": "@jupyter-widgets/controls",
     "model_module_version": "1.5.0",
     "model_name": "FloatProgressModel",
     "state": {
      "_dom_classes": [],
      "_model_module": "@jupyter-widgets/controls",
      "_model_module_version": "1.5.0",
      "_model_name": "FloatProgressModel",
      "_view_count": null,
      "_view_module": "@jupyter-widgets/controls",
      "_view_module_version": "1.5.0",
      "_view_name": "ProgressView",
      "bar_style": "success",
      "description": "",
      "description_tooltip": null,
      "layout": "IPY_MODEL_a8d2085e52034cd396a57aa2469a45bd",
      "max": 200,
      "min": 0,
      "orientation": "horizontal",
      "style": "IPY_MODEL_8d80cd375d1245e79a4565149658402c",
      "value": 200
     }
    },
    "648d50bc9b0d4268bd19f2ac0e131de2": {
     "model_module": "@jupyter-widgets/controls",
     "model_module_version": "1.5.0",
     "model_name": "HBoxModel",
     "state": {
      "_dom_classes": [],
      "_model_module": "@jupyter-widgets/controls",
      "_model_module_version": "1.5.0",
      "_model_name": "HBoxModel",
      "_view_count": null,
      "_view_module": "@jupyter-widgets/controls",
      "_view_module_version": "1.5.0",
      "_view_name": "HBoxView",
      "box_style": "",
      "children": [
       "IPY_MODEL_c4607144a45942618cc14aca8ab6ea4e",
       "IPY_MODEL_c7ddcae957c7489ab36b45598261a499",
       "IPY_MODEL_94299100e60745659f13cde735ab6b84"
      ],
      "layout": "IPY_MODEL_17d62325982f4e5081c4db1361087ab4"
     }
    },
    "6636ab78a5104e488bfe217a541c19cf": {
     "model_module": "@jupyter-widgets/controls",
     "model_module_version": "1.5.0",
     "model_name": "DescriptionStyleModel",
     "state": {
      "_model_module": "@jupyter-widgets/controls",
      "_model_module_version": "1.5.0",
      "_model_name": "DescriptionStyleModel",
      "_view_count": null,
      "_view_module": "@jupyter-widgets/base",
      "_view_module_version": "1.2.0",
      "_view_name": "StyleView",
      "description_width": ""
     }
    },
    "673407477aca407dac40f320cdbf48cd": {
     "model_module": "@jupyter-widgets/controls",
     "model_module_version": "1.5.0",
     "model_name": "DescriptionStyleModel",
     "state": {
      "_model_module": "@jupyter-widgets/controls",
      "_model_module_version": "1.5.0",
      "_model_name": "DescriptionStyleModel",
      "_view_count": null,
      "_view_module": "@jupyter-widgets/base",
      "_view_module_version": "1.2.0",
      "_view_name": "StyleView",
      "description_width": ""
     }
    },
    "6de329c276e94cf29208beb8849614f6": {
     "model_module": "@jupyter-widgets/controls",
     "model_module_version": "1.5.0",
     "model_name": "DescriptionStyleModel",
     "state": {
      "_model_module": "@jupyter-widgets/controls",
      "_model_module_version": "1.5.0",
      "_model_name": "DescriptionStyleModel",
      "_view_count": null,
      "_view_module": "@jupyter-widgets/base",
      "_view_module_version": "1.2.0",
      "_view_name": "StyleView",
      "description_width": ""
     }
    },
    "72201f1a0cf14698b50d94f2e0a7d1d6": {
     "model_module": "@jupyter-widgets/controls",
     "model_module_version": "1.5.0",
     "model_name": "DescriptionStyleModel",
     "state": {
      "_model_module": "@jupyter-widgets/controls",
      "_model_module_version": "1.5.0",
      "_model_name": "DescriptionStyleModel",
      "_view_count": null,
      "_view_module": "@jupyter-widgets/base",
      "_view_module_version": "1.2.0",
      "_view_name": "StyleView",
      "description_width": ""
     }
    },
    "73ce3257471f4e3c92dadad06b229c8f": {
     "model_module": "@jupyter-widgets/base",
     "model_module_version": "1.2.0",
     "model_name": "LayoutModel",
     "state": {
      "_model_module": "@jupyter-widgets/base",
      "_model_module_version": "1.2.0",
      "_model_name": "LayoutModel",
      "_view_count": null,
      "_view_module": "@jupyter-widgets/base",
      "_view_module_version": "1.2.0",
      "_view_name": "LayoutView",
      "align_content": null,
      "align_items": null,
      "align_self": null,
      "border": null,
      "bottom": null,
      "display": null,
      "flex": null,
      "flex_flow": null,
      "grid_area": null,
      "grid_auto_columns": null,
      "grid_auto_flow": null,
      "grid_auto_rows": null,
      "grid_column": null,
      "grid_gap": null,
      "grid_row": null,
      "grid_template_areas": null,
      "grid_template_columns": null,
      "grid_template_rows": null,
      "height": null,
      "justify_content": null,
      "justify_items": null,
      "left": null,
      "margin": null,
      "max_height": null,
      "max_width": null,
      "min_height": null,
      "min_width": null,
      "object_fit": null,
      "object_position": null,
      "order": null,
      "overflow": null,
      "overflow_x": null,
      "overflow_y": null,
      "padding": null,
      "right": null,
      "top": null,
      "visibility": null,
      "width": null
     }
    },
    "7611e55b6d754ffc811e2553c0de68aa": {
     "model_module": "@jupyter-widgets/base",
     "model_module_version": "1.2.0",
     "model_name": "LayoutModel",
     "state": {
      "_model_module": "@jupyter-widgets/base",
      "_model_module_version": "1.2.0",
      "_model_name": "LayoutModel",
      "_view_count": null,
      "_view_module": "@jupyter-widgets/base",
      "_view_module_version": "1.2.0",
      "_view_name": "LayoutView",
      "align_content": null,
      "align_items": null,
      "align_self": null,
      "border": null,
      "bottom": null,
      "display": null,
      "flex": null,
      "flex_flow": null,
      "grid_area": null,
      "grid_auto_columns": null,
      "grid_auto_flow": null,
      "grid_auto_rows": null,
      "grid_column": null,
      "grid_gap": null,
      "grid_row": null,
      "grid_template_areas": null,
      "grid_template_columns": null,
      "grid_template_rows": null,
      "height": null,
      "justify_content": null,
      "justify_items": null,
      "left": null,
      "margin": null,
      "max_height": null,
      "max_width": null,
      "min_height": null,
      "min_width": null,
      "object_fit": null,
      "object_position": null,
      "order": null,
      "overflow": null,
      "overflow_x": null,
      "overflow_y": null,
      "padding": null,
      "right": null,
      "top": null,
      "visibility": null,
      "width": null
     }
    },
    "7a2ff93cc8da4de0ad8d96e0dffc5a80": {
     "model_module": "@jupyter-widgets/controls",
     "model_module_version": "1.5.0",
     "model_name": "HBoxModel",
     "state": {
      "_dom_classes": [],
      "_model_module": "@jupyter-widgets/controls",
      "_model_module_version": "1.5.0",
      "_model_name": "HBoxModel",
      "_view_count": null,
      "_view_module": "@jupyter-widgets/controls",
      "_view_module_version": "1.5.0",
      "_view_name": "HBoxView",
      "box_style": "",
      "children": [
       "IPY_MODEL_ee57fd8d06f941d4b0dfb27f5f0e677f",
       "IPY_MODEL_c3ef3cadcf594e80a1027822fc84eb21",
       "IPY_MODEL_4ca5b7cf6a274ff7b4fa07d71987b714"
      ],
      "layout": "IPY_MODEL_ef278c4208f8435c8d6cc1a13bf50f42"
     }
    },
    "7b76f7c6734d4f4d9425ad1a65317bd6": {
     "model_module": "@jupyter-widgets/base",
     "model_module_version": "1.2.0",
     "model_name": "LayoutModel",
     "state": {
      "_model_module": "@jupyter-widgets/base",
      "_model_module_version": "1.2.0",
      "_model_name": "LayoutModel",
      "_view_count": null,
      "_view_module": "@jupyter-widgets/base",
      "_view_module_version": "1.2.0",
      "_view_name": "LayoutView",
      "align_content": null,
      "align_items": null,
      "align_self": null,
      "border": null,
      "bottom": null,
      "display": null,
      "flex": null,
      "flex_flow": null,
      "grid_area": null,
      "grid_auto_columns": null,
      "grid_auto_flow": null,
      "grid_auto_rows": null,
      "grid_column": null,
      "grid_gap": null,
      "grid_row": null,
      "grid_template_areas": null,
      "grid_template_columns": null,
      "grid_template_rows": null,
      "height": null,
      "justify_content": null,
      "justify_items": null,
      "left": null,
      "margin": null,
      "max_height": null,
      "max_width": null,
      "min_height": null,
      "min_width": null,
      "object_fit": null,
      "object_position": null,
      "order": null,
      "overflow": null,
      "overflow_x": null,
      "overflow_y": null,
      "padding": null,
      "right": null,
      "top": null,
      "visibility": null,
      "width": null
     }
    },
    "823d5017ce17481bbdabf1d0d6305e72": {
     "model_module": "@jupyter-widgets/base",
     "model_module_version": "1.2.0",
     "model_name": "LayoutModel",
     "state": {
      "_model_module": "@jupyter-widgets/base",
      "_model_module_version": "1.2.0",
      "_model_name": "LayoutModel",
      "_view_count": null,
      "_view_module": "@jupyter-widgets/base",
      "_view_module_version": "1.2.0",
      "_view_name": "LayoutView",
      "align_content": null,
      "align_items": null,
      "align_self": null,
      "border": null,
      "bottom": null,
      "display": null,
      "flex": null,
      "flex_flow": null,
      "grid_area": null,
      "grid_auto_columns": null,
      "grid_auto_flow": null,
      "grid_auto_rows": null,
      "grid_column": null,
      "grid_gap": null,
      "grid_row": null,
      "grid_template_areas": null,
      "grid_template_columns": null,
      "grid_template_rows": null,
      "height": null,
      "justify_content": null,
      "justify_items": null,
      "left": null,
      "margin": null,
      "max_height": null,
      "max_width": null,
      "min_height": null,
      "min_width": null,
      "object_fit": null,
      "object_position": null,
      "order": null,
      "overflow": null,
      "overflow_x": null,
      "overflow_y": null,
      "padding": null,
      "right": null,
      "top": null,
      "visibility": null,
      "width": null
     }
    },
    "83cc0aed9c4d475388d6bb34a03b0b84": {
     "model_module": "@jupyter-widgets/base",
     "model_module_version": "1.2.0",
     "model_name": "LayoutModel",
     "state": {
      "_model_module": "@jupyter-widgets/base",
      "_model_module_version": "1.2.0",
      "_model_name": "LayoutModel",
      "_view_count": null,
      "_view_module": "@jupyter-widgets/base",
      "_view_module_version": "1.2.0",
      "_view_name": "LayoutView",
      "align_content": null,
      "align_items": null,
      "align_self": null,
      "border": null,
      "bottom": null,
      "display": null,
      "flex": null,
      "flex_flow": null,
      "grid_area": null,
      "grid_auto_columns": null,
      "grid_auto_flow": null,
      "grid_auto_rows": null,
      "grid_column": null,
      "grid_gap": null,
      "grid_row": null,
      "grid_template_areas": null,
      "grid_template_columns": null,
      "grid_template_rows": null,
      "height": null,
      "justify_content": null,
      "justify_items": null,
      "left": null,
      "margin": null,
      "max_height": null,
      "max_width": null,
      "min_height": null,
      "min_width": null,
      "object_fit": null,
      "object_position": null,
      "order": null,
      "overflow": null,
      "overflow_x": null,
      "overflow_y": null,
      "padding": null,
      "right": null,
      "top": null,
      "visibility": null,
      "width": null
     }
    },
    "87169449cfe3445192559a8d2638e425": {
     "model_module": "@jupyter-widgets/base",
     "model_module_version": "1.2.0",
     "model_name": "LayoutModel",
     "state": {
      "_model_module": "@jupyter-widgets/base",
      "_model_module_version": "1.2.0",
      "_model_name": "LayoutModel",
      "_view_count": null,
      "_view_module": "@jupyter-widgets/base",
      "_view_module_version": "1.2.0",
      "_view_name": "LayoutView",
      "align_content": null,
      "align_items": null,
      "align_self": null,
      "border": null,
      "bottom": null,
      "display": null,
      "flex": null,
      "flex_flow": null,
      "grid_area": null,
      "grid_auto_columns": null,
      "grid_auto_flow": null,
      "grid_auto_rows": null,
      "grid_column": null,
      "grid_gap": null,
      "grid_row": null,
      "grid_template_areas": null,
      "grid_template_columns": null,
      "grid_template_rows": null,
      "height": null,
      "justify_content": null,
      "justify_items": null,
      "left": null,
      "margin": null,
      "max_height": null,
      "max_width": null,
      "min_height": null,
      "min_width": null,
      "object_fit": null,
      "object_position": null,
      "order": null,
      "overflow": null,
      "overflow_x": null,
      "overflow_y": null,
      "padding": null,
      "right": null,
      "top": null,
      "visibility": null,
      "width": null
     }
    },
    "878f4d328d2e48769f16e3d79fb3a940": {
     "model_module": "@jupyter-widgets/controls",
     "model_module_version": "1.5.0",
     "model_name": "DescriptionStyleModel",
     "state": {
      "_model_module": "@jupyter-widgets/controls",
      "_model_module_version": "1.5.0",
      "_model_name": "DescriptionStyleModel",
      "_view_count": null,
      "_view_module": "@jupyter-widgets/base",
      "_view_module_version": "1.2.0",
      "_view_name": "StyleView",
      "description_width": ""
     }
    },
    "89f49a53e726465dbb7ec19f39e7619c": {
     "model_module": "@jupyter-widgets/controls",
     "model_module_version": "1.5.0",
     "model_name": "FloatProgressModel",
     "state": {
      "_dom_classes": [],
      "_model_module": "@jupyter-widgets/controls",
      "_model_module_version": "1.5.0",
      "_model_name": "FloatProgressModel",
      "_view_count": null,
      "_view_module": "@jupyter-widgets/controls",
      "_view_module_version": "1.5.0",
      "_view_name": "ProgressView",
      "bar_style": "success",
      "description": "",
      "description_tooltip": null,
      "layout": "IPY_MODEL_7b76f7c6734d4f4d9425ad1a65317bd6",
      "max": 200,
      "min": 0,
      "orientation": "horizontal",
      "style": "IPY_MODEL_2551608c5d4041bb8f8c1350282a5b87",
      "value": 200
     }
    },
    "8a754cfb72f04672a9bf170892e2a425": {
     "model_module": "@jupyter-widgets/controls",
     "model_module_version": "1.5.0",
     "model_name": "HBoxModel",
     "state": {
      "_dom_classes": [],
      "_model_module": "@jupyter-widgets/controls",
      "_model_module_version": "1.5.0",
      "_model_name": "HBoxModel",
      "_view_count": null,
      "_view_module": "@jupyter-widgets/controls",
      "_view_module_version": "1.5.0",
      "_view_name": "HBoxView",
      "box_style": "",
      "children": [
       "IPY_MODEL_576c3e277d744f9ab6740260bf89e787",
       "IPY_MODEL_f83e5b83f7694d73985b6e0eacc605fe",
       "IPY_MODEL_ed40e4050a6e439a81ad7530ba5e888a"
      ],
      "layout": "IPY_MODEL_d27aac057ca340afb27b4dd4b87ce7a0"
     }
    },
    "8b1e9965e7704699991d1f2444b6a538": {
     "model_module": "@jupyter-widgets/base",
     "model_module_version": "1.2.0",
     "model_name": "LayoutModel",
     "state": {
      "_model_module": "@jupyter-widgets/base",
      "_model_module_version": "1.2.0",
      "_model_name": "LayoutModel",
      "_view_count": null,
      "_view_module": "@jupyter-widgets/base",
      "_view_module_version": "1.2.0",
      "_view_name": "LayoutView",
      "align_content": null,
      "align_items": null,
      "align_self": null,
      "border": null,
      "bottom": null,
      "display": null,
      "flex": null,
      "flex_flow": null,
      "grid_area": null,
      "grid_auto_columns": null,
      "grid_auto_flow": null,
      "grid_auto_rows": null,
      "grid_column": null,
      "grid_gap": null,
      "grid_row": null,
      "grid_template_areas": null,
      "grid_template_columns": null,
      "grid_template_rows": null,
      "height": null,
      "justify_content": null,
      "justify_items": null,
      "left": null,
      "margin": null,
      "max_height": null,
      "max_width": null,
      "min_height": null,
      "min_width": null,
      "object_fit": null,
      "object_position": null,
      "order": null,
      "overflow": null,
      "overflow_x": null,
      "overflow_y": null,
      "padding": null,
      "right": null,
      "top": null,
      "visibility": null,
      "width": null
     }
    },
    "8b680df52b5e44dc97d5319f45957edb": {
     "model_module": "@jupyter-widgets/controls",
     "model_module_version": "1.5.0",
     "model_name": "HTMLModel",
     "state": {
      "_dom_classes": [],
      "_model_module": "@jupyter-widgets/controls",
      "_model_module_version": "1.5.0",
      "_model_name": "HTMLModel",
      "_view_count": null,
      "_view_module": "@jupyter-widgets/controls",
      "_view_module_version": "1.5.0",
      "_view_name": "HTMLView",
      "description": "",
      "description_tooltip": null,
      "layout": "IPY_MODEL_87169449cfe3445192559a8d2638e425",
      "placeholder": "​",
      "style": "IPY_MODEL_673407477aca407dac40f320cdbf48cd",
      "value": "50000-th epoch, loss: 6.15, accuracy: 0.99: 100%"
     }
    },
    "8bf19bc276674529a60ae70966bc8a83": {
     "model_module": "@jupyter-widgets/base",
     "model_module_version": "1.2.0",
     "model_name": "LayoutModel",
     "state": {
      "_model_module": "@jupyter-widgets/base",
      "_model_module_version": "1.2.0",
      "_model_name": "LayoutModel",
      "_view_count": null,
      "_view_module": "@jupyter-widgets/base",
      "_view_module_version": "1.2.0",
      "_view_name": "LayoutView",
      "align_content": null,
      "align_items": null,
      "align_self": null,
      "border": null,
      "bottom": null,
      "display": null,
      "flex": null,
      "flex_flow": null,
      "grid_area": null,
      "grid_auto_columns": null,
      "grid_auto_flow": null,
      "grid_auto_rows": null,
      "grid_column": null,
      "grid_gap": null,
      "grid_row": null,
      "grid_template_areas": null,
      "grid_template_columns": null,
      "grid_template_rows": null,
      "height": null,
      "justify_content": null,
      "justify_items": null,
      "left": null,
      "margin": null,
      "max_height": null,
      "max_width": null,
      "min_height": null,
      "min_width": null,
      "object_fit": null,
      "object_position": null,
      "order": null,
      "overflow": null,
      "overflow_x": null,
      "overflow_y": null,
      "padding": null,
      "right": null,
      "top": null,
      "visibility": null,
      "width": null
     }
    },
    "8d80cd375d1245e79a4565149658402c": {
     "model_module": "@jupyter-widgets/controls",
     "model_module_version": "1.5.0",
     "model_name": "ProgressStyleModel",
     "state": {
      "_model_module": "@jupyter-widgets/controls",
      "_model_module_version": "1.5.0",
      "_model_name": "ProgressStyleModel",
      "_view_count": null,
      "_view_module": "@jupyter-widgets/base",
      "_view_module_version": "1.2.0",
      "_view_name": "StyleView",
      "bar_color": null,
      "description_width": ""
     }
    },
    "8d88e4b57ebc4f65a32b3386ddfc8603": {
     "model_module": "@jupyter-widgets/controls",
     "model_module_version": "1.5.0",
     "model_name": "HBoxModel",
     "state": {
      "_dom_classes": [],
      "_model_module": "@jupyter-widgets/controls",
      "_model_module_version": "1.5.0",
      "_model_name": "HBoxModel",
      "_view_count": null,
      "_view_module": "@jupyter-widgets/controls",
      "_view_module_version": "1.5.0",
      "_view_name": "HBoxView",
      "box_style": "",
      "children": [
       "IPY_MODEL_ff910fdfc8e54a90acc1736e40941da0",
       "IPY_MODEL_632f6116f2904656be9ce5251af8747e",
       "IPY_MODEL_2eeeaf69b9c9421cae3734c46c303f44"
      ],
      "layout": "IPY_MODEL_2628877386e84c75b88857d7d241638d"
     }
    },
    "8f7c8cb860114c15867feb597b476a2f": {
     "model_module": "@jupyter-widgets/controls",
     "model_module_version": "1.5.0",
     "model_name": "HTMLModel",
     "state": {
      "_dom_classes": [],
      "_model_module": "@jupyter-widgets/controls",
      "_model_module_version": "1.5.0",
      "_model_name": "HTMLModel",
      "_view_count": null,
      "_view_module": "@jupyter-widgets/controls",
      "_view_module_version": "1.5.0",
      "_view_name": "HTMLView",
      "description": "",
      "description_tooltip": null,
      "layout": "IPY_MODEL_c959a896b9bc40eebcf7c58bd1d2a63f",
      "placeholder": "​",
      "style": "IPY_MODEL_ef7541662c074ff2aca1ddfac4888def",
      "value": "200-th epoch, loss: 0.0001, train accuracy: 1.00: 100%"
     }
    },
    "94299100e60745659f13cde735ab6b84": {
     "model_module": "@jupyter-widgets/controls",
     "model_module_version": "1.5.0",
     "model_name": "HTMLModel",
     "state": {
      "_dom_classes": [],
      "_model_module": "@jupyter-widgets/controls",
      "_model_module_version": "1.5.0",
      "_model_name": "HTMLModel",
      "_view_count": null,
      "_view_module": "@jupyter-widgets/controls",
      "_view_module_version": "1.5.0",
      "_view_name": "HTMLView",
      "description": "",
      "description_tooltip": null,
      "layout": "IPY_MODEL_400ac629a99c4632a4e33820421aa070",
      "placeholder": "​",
      "style": "IPY_MODEL_9d29e8f64ed74c589c240feef2e7c917",
      "value": " 600/600 [00:49&lt;00:00, 12.57it/s]"
     }
    },
    "9af581c7e01e49db953a77351ff65a6e": {
     "model_module": "@jupyter-widgets/base",
     "model_module_version": "1.2.0",
     "model_name": "LayoutModel",
     "state": {
      "_model_module": "@jupyter-widgets/base",
      "_model_module_version": "1.2.0",
      "_model_name": "LayoutModel",
      "_view_count": null,
      "_view_module": "@jupyter-widgets/base",
      "_view_module_version": "1.2.0",
      "_view_name": "LayoutView",
      "align_content": null,
      "align_items": null,
      "align_self": null,
      "border": null,
      "bottom": null,
      "display": null,
      "flex": null,
      "flex_flow": null,
      "grid_area": null,
      "grid_auto_columns": null,
      "grid_auto_flow": null,
      "grid_auto_rows": null,
      "grid_column": null,
      "grid_gap": null,
      "grid_row": null,
      "grid_template_areas": null,
      "grid_template_columns": null,
      "grid_template_rows": null,
      "height": null,
      "justify_content": null,
      "justify_items": null,
      "left": null,
      "margin": null,
      "max_height": null,
      "max_width": null,
      "min_height": null,
      "min_width": null,
      "object_fit": null,
      "object_position": null,
      "order": null,
      "overflow": null,
      "overflow_x": null,
      "overflow_y": null,
      "padding": null,
      "right": null,
      "top": null,
      "visibility": null,
      "width": null
     }
    },
    "9b4d26fa50ed408abe9d87889689c852": {
     "model_module": "@jupyter-widgets/controls",
     "model_module_version": "1.5.0",
     "model_name": "DescriptionStyleModel",
     "state": {
      "_model_module": "@jupyter-widgets/controls",
      "_model_module_version": "1.5.0",
      "_model_name": "DescriptionStyleModel",
      "_view_count": null,
      "_view_module": "@jupyter-widgets/base",
      "_view_module_version": "1.2.0",
      "_view_name": "StyleView",
      "description_width": ""
     }
    },
    "9d29e8f64ed74c589c240feef2e7c917": {
     "model_module": "@jupyter-widgets/controls",
     "model_module_version": "1.5.0",
     "model_name": "DescriptionStyleModel",
     "state": {
      "_model_module": "@jupyter-widgets/controls",
      "_model_module_version": "1.5.0",
      "_model_name": "DescriptionStyleModel",
      "_view_count": null,
      "_view_module": "@jupyter-widgets/base",
      "_view_module_version": "1.2.0",
      "_view_name": "StyleView",
      "description_width": ""
     }
    },
    "a20ee8e9666840a083c98089fdf151c8": {
     "model_module": "@jupyter-widgets/base",
     "model_module_version": "1.2.0",
     "model_name": "LayoutModel",
     "state": {
      "_model_module": "@jupyter-widgets/base",
      "_model_module_version": "1.2.0",
      "_model_name": "LayoutModel",
      "_view_count": null,
      "_view_module": "@jupyter-widgets/base",
      "_view_module_version": "1.2.0",
      "_view_name": "LayoutView",
      "align_content": null,
      "align_items": null,
      "align_self": null,
      "border": null,
      "bottom": null,
      "display": null,
      "flex": null,
      "flex_flow": null,
      "grid_area": null,
      "grid_auto_columns": null,
      "grid_auto_flow": null,
      "grid_auto_rows": null,
      "grid_column": null,
      "grid_gap": null,
      "grid_row": null,
      "grid_template_areas": null,
      "grid_template_columns": null,
      "grid_template_rows": null,
      "height": null,
      "justify_content": null,
      "justify_items": null,
      "left": null,
      "margin": null,
      "max_height": null,
      "max_width": null,
      "min_height": null,
      "min_width": null,
      "object_fit": null,
      "object_position": null,
      "order": null,
      "overflow": null,
      "overflow_x": null,
      "overflow_y": null,
      "padding": null,
      "right": null,
      "top": null,
      "visibility": null,
      "width": null
     }
    },
    "a3a3871d7f8a49ff94e44424770fd6bb": {
     "model_module": "@jupyter-widgets/controls",
     "model_module_version": "1.5.0",
     "model_name": "DescriptionStyleModel",
     "state": {
      "_model_module": "@jupyter-widgets/controls",
      "_model_module_version": "1.5.0",
      "_model_name": "DescriptionStyleModel",
      "_view_count": null,
      "_view_module": "@jupyter-widgets/base",
      "_view_module_version": "1.2.0",
      "_view_name": "StyleView",
      "description_width": ""
     }
    },
    "a488b92d10184729827bbdb7f0621caf": {
     "model_module": "@jupyter-widgets/controls",
     "model_module_version": "1.5.0",
     "model_name": "DescriptionStyleModel",
     "state": {
      "_model_module": "@jupyter-widgets/controls",
      "_model_module_version": "1.5.0",
      "_model_name": "DescriptionStyleModel",
      "_view_count": null,
      "_view_module": "@jupyter-widgets/base",
      "_view_module_version": "1.2.0",
      "_view_name": "StyleView",
      "description_width": ""
     }
    },
    "a4a35065f6414a92a1882666c510949e": {
     "model_module": "@jupyter-widgets/controls",
     "model_module_version": "1.5.0",
     "model_name": "HTMLModel",
     "state": {
      "_dom_classes": [],
      "_model_module": "@jupyter-widgets/controls",
      "_model_module_version": "1.5.0",
      "_model_name": "HTMLModel",
      "_view_count": null,
      "_view_module": "@jupyter-widgets/controls",
      "_view_module_version": "1.5.0",
      "_view_name": "HTMLView",
      "description": "",
      "description_tooltip": null,
      "layout": "IPY_MODEL_eb6ade9918e743ab8d5d4bc4bd5bc554",
      "placeholder": "​",
      "style": "IPY_MODEL_cafb25e0852248d49bca1f323db2c546",
      "value": "400-th epoch, loss: 0.9544, train accuracy: 0.55: 100%"
     }
    },
    "a55a30c2f6dd49c5821f202f53eae5cd": {
     "model_module": "@jupyter-widgets/base",
     "model_module_version": "1.2.0",
     "model_name": "LayoutModel",
     "state": {
      "_model_module": "@jupyter-widgets/base",
      "_model_module_version": "1.2.0",
      "_model_name": "LayoutModel",
      "_view_count": null,
      "_view_module": "@jupyter-widgets/base",
      "_view_module_version": "1.2.0",
      "_view_name": "LayoutView",
      "align_content": null,
      "align_items": null,
      "align_self": null,
      "border": null,
      "bottom": null,
      "display": null,
      "flex": null,
      "flex_flow": null,
      "grid_area": null,
      "grid_auto_columns": null,
      "grid_auto_flow": null,
      "grid_auto_rows": null,
      "grid_column": null,
      "grid_gap": null,
      "grid_row": null,
      "grid_template_areas": null,
      "grid_template_columns": null,
      "grid_template_rows": null,
      "height": null,
      "justify_content": null,
      "justify_items": null,
      "left": null,
      "margin": null,
      "max_height": null,
      "max_width": null,
      "min_height": null,
      "min_width": null,
      "object_fit": null,
      "object_position": null,
      "order": null,
      "overflow": null,
      "overflow_x": null,
      "overflow_y": null,
      "padding": null,
      "right": null,
      "top": null,
      "visibility": null,
      "width": null
     }
    },
    "a8d2085e52034cd396a57aa2469a45bd": {
     "model_module": "@jupyter-widgets/base",
     "model_module_version": "1.2.0",
     "model_name": "LayoutModel",
     "state": {
      "_model_module": "@jupyter-widgets/base",
      "_model_module_version": "1.2.0",
      "_model_name": "LayoutModel",
      "_view_count": null,
      "_view_module": "@jupyter-widgets/base",
      "_view_module_version": "1.2.0",
      "_view_name": "LayoutView",
      "align_content": null,
      "align_items": null,
      "align_self": null,
      "border": null,
      "bottom": null,
      "display": null,
      "flex": null,
      "flex_flow": null,
      "grid_area": null,
      "grid_auto_columns": null,
      "grid_auto_flow": null,
      "grid_auto_rows": null,
      "grid_column": null,
      "grid_gap": null,
      "grid_row": null,
      "grid_template_areas": null,
      "grid_template_columns": null,
      "grid_template_rows": null,
      "height": null,
      "justify_content": null,
      "justify_items": null,
      "left": null,
      "margin": null,
      "max_height": null,
      "max_width": null,
      "min_height": null,
      "min_width": null,
      "object_fit": null,
      "object_position": null,
      "order": null,
      "overflow": null,
      "overflow_x": null,
      "overflow_y": null,
      "padding": null,
      "right": null,
      "top": null,
      "visibility": null,
      "width": null
     }
    },
    "a98c491ac81b452eaf3cf2b4bebb7ec5": {
     "model_module": "@jupyter-widgets/base",
     "model_module_version": "1.2.0",
     "model_name": "LayoutModel",
     "state": {
      "_model_module": "@jupyter-widgets/base",
      "_model_module_version": "1.2.0",
      "_model_name": "LayoutModel",
      "_view_count": null,
      "_view_module": "@jupyter-widgets/base",
      "_view_module_version": "1.2.0",
      "_view_name": "LayoutView",
      "align_content": null,
      "align_items": null,
      "align_self": null,
      "border": null,
      "bottom": null,
      "display": null,
      "flex": null,
      "flex_flow": null,
      "grid_area": null,
      "grid_auto_columns": null,
      "grid_auto_flow": null,
      "grid_auto_rows": null,
      "grid_column": null,
      "grid_gap": null,
      "grid_row": null,
      "grid_template_areas": null,
      "grid_template_columns": null,
      "grid_template_rows": null,
      "height": null,
      "justify_content": null,
      "justify_items": null,
      "left": null,
      "margin": null,
      "max_height": null,
      "max_width": null,
      "min_height": null,
      "min_width": null,
      "object_fit": null,
      "object_position": null,
      "order": null,
      "overflow": null,
      "overflow_x": null,
      "overflow_y": null,
      "padding": null,
      "right": null,
      "top": null,
      "visibility": null,
      "width": null
     }
    },
    "aaaebbe28c9a4bcf90cdfb032da5fb15": {
     "model_module": "@jupyter-widgets/base",
     "model_module_version": "1.2.0",
     "model_name": "LayoutModel",
     "state": {
      "_model_module": "@jupyter-widgets/base",
      "_model_module_version": "1.2.0",
      "_model_name": "LayoutModel",
      "_view_count": null,
      "_view_module": "@jupyter-widgets/base",
      "_view_module_version": "1.2.0",
      "_view_name": "LayoutView",
      "align_content": null,
      "align_items": null,
      "align_self": null,
      "border": null,
      "bottom": null,
      "display": null,
      "flex": null,
      "flex_flow": null,
      "grid_area": null,
      "grid_auto_columns": null,
      "grid_auto_flow": null,
      "grid_auto_rows": null,
      "grid_column": null,
      "grid_gap": null,
      "grid_row": null,
      "grid_template_areas": null,
      "grid_template_columns": null,
      "grid_template_rows": null,
      "height": null,
      "justify_content": null,
      "justify_items": null,
      "left": null,
      "margin": null,
      "max_height": null,
      "max_width": null,
      "min_height": null,
      "min_width": null,
      "object_fit": null,
      "object_position": null,
      "order": null,
      "overflow": null,
      "overflow_x": null,
      "overflow_y": null,
      "padding": null,
      "right": null,
      "top": null,
      "visibility": null,
      "width": null
     }
    },
    "af8b2a3de8664680a4c86f1bdfd56410": {
     "model_module": "@jupyter-widgets/controls",
     "model_module_version": "1.5.0",
     "model_name": "HTMLModel",
     "state": {
      "_dom_classes": [],
      "_model_module": "@jupyter-widgets/controls",
      "_model_module_version": "1.5.0",
      "_model_name": "HTMLModel",
      "_view_count": null,
      "_view_module": "@jupyter-widgets/controls",
      "_view_module_version": "1.5.0",
      "_view_name": "HTMLView",
      "description": "",
      "description_tooltip": null,
      "layout": "IPY_MODEL_de6c4f26f8914c77b52b274e7b14d810",
      "placeholder": "​",
      "style": "IPY_MODEL_b915a04c7e61462fad323d04889a0e52",
      "value": " 800/800 [00:36&lt;00:00, 22.37it/s]"
     }
    },
    "b75918859f3f4d67a94e04261dfcbb0c": {
     "model_module": "@jupyter-widgets/controls",
     "model_module_version": "1.5.0",
     "model_name": "DescriptionStyleModel",
     "state": {
      "_model_module": "@jupyter-widgets/controls",
      "_model_module_version": "1.5.0",
      "_model_name": "DescriptionStyleModel",
      "_view_count": null,
      "_view_module": "@jupyter-widgets/base",
      "_view_module_version": "1.2.0",
      "_view_name": "StyleView",
      "description_width": ""
     }
    },
    "b7fef78f126941acb1264aaaedd4eeab": {
     "model_module": "@jupyter-widgets/controls",
     "model_module_version": "1.5.0",
     "model_name": "HTMLModel",
     "state": {
      "_dom_classes": [],
      "_model_module": "@jupyter-widgets/controls",
      "_model_module_version": "1.5.0",
      "_model_name": "HTMLModel",
      "_view_count": null,
      "_view_module": "@jupyter-widgets/controls",
      "_view_module_version": "1.5.0",
      "_view_name": "HTMLView",
      "description": "",
      "description_tooltip": null,
      "layout": "IPY_MODEL_9af581c7e01e49db953a77351ff65a6e",
      "placeholder": "​",
      "style": "IPY_MODEL_d2930118b66b4245a8ec6321bfc27312",
      "value": " 200/200 [01:59&lt;00:00,  1.58it/s]"
     }
    },
    "b915a04c7e61462fad323d04889a0e52": {
     "model_module": "@jupyter-widgets/controls",
     "model_module_version": "1.5.0",
     "model_name": "DescriptionStyleModel",
     "state": {
      "_model_module": "@jupyter-widgets/controls",
      "_model_module_version": "1.5.0",
      "_model_name": "DescriptionStyleModel",
      "_view_count": null,
      "_view_module": "@jupyter-widgets/base",
      "_view_module_version": "1.2.0",
      "_view_name": "StyleView",
      "description_width": ""
     }
    },
    "bbbef0a0da5e4a69afc41b77954bf6f3": {
     "model_module": "@jupyter-widgets/base",
     "model_module_version": "1.2.0",
     "model_name": "LayoutModel",
     "state": {
      "_model_module": "@jupyter-widgets/base",
      "_model_module_version": "1.2.0",
      "_model_name": "LayoutModel",
      "_view_count": null,
      "_view_module": "@jupyter-widgets/base",
      "_view_module_version": "1.2.0",
      "_view_name": "LayoutView",
      "align_content": null,
      "align_items": null,
      "align_self": null,
      "border": null,
      "bottom": null,
      "display": null,
      "flex": null,
      "flex_flow": null,
      "grid_area": null,
      "grid_auto_columns": null,
      "grid_auto_flow": null,
      "grid_auto_rows": null,
      "grid_column": null,
      "grid_gap": null,
      "grid_row": null,
      "grid_template_areas": null,
      "grid_template_columns": null,
      "grid_template_rows": null,
      "height": null,
      "justify_content": null,
      "justify_items": null,
      "left": null,
      "margin": null,
      "max_height": null,
      "max_width": null,
      "min_height": null,
      "min_width": null,
      "object_fit": null,
      "object_position": null,
      "order": null,
      "overflow": null,
      "overflow_x": null,
      "overflow_y": null,
      "padding": null,
      "right": null,
      "top": null,
      "visibility": null,
      "width": null
     }
    },
    "c240779f1552463eb0bd011243897b24": {
     "model_module": "@jupyter-widgets/controls",
     "model_module_version": "1.5.0",
     "model_name": "ProgressStyleModel",
     "state": {
      "_model_module": "@jupyter-widgets/controls",
      "_model_module_version": "1.5.0",
      "_model_name": "ProgressStyleModel",
      "_view_count": null,
      "_view_module": "@jupyter-widgets/base",
      "_view_module_version": "1.2.0",
      "_view_name": "StyleView",
      "bar_color": null,
      "description_width": ""
     }
    },
    "c3ef3cadcf594e80a1027822fc84eb21": {
     "model_module": "@jupyter-widgets/controls",
     "model_module_version": "1.5.0",
     "model_name": "FloatProgressModel",
     "state": {
      "_dom_classes": [],
      "_model_module": "@jupyter-widgets/controls",
      "_model_module_version": "1.5.0",
      "_model_name": "FloatProgressModel",
      "_view_count": null,
      "_view_module": "@jupyter-widgets/controls",
      "_view_module_version": "1.5.0",
      "_view_name": "ProgressView",
      "bar_style": "success",
      "description": "",
      "description_tooltip": null,
      "layout": "IPY_MODEL_7611e55b6d754ffc811e2553c0de68aa",
      "max": 400,
      "min": 0,
      "orientation": "horizontal",
      "style": "IPY_MODEL_32a3bf087ece4c7e805e1762aa0a1bb5",
      "value": 400
     }
    },
    "c4607144a45942618cc14aca8ab6ea4e": {
     "model_module": "@jupyter-widgets/controls",
     "model_module_version": "1.5.0",
     "model_name": "HTMLModel",
     "state": {
      "_dom_classes": [],
      "_model_module": "@jupyter-widgets/controls",
      "_model_module_version": "1.5.0",
      "_model_name": "HTMLModel",
      "_view_count": null,
      "_view_module": "@jupyter-widgets/controls",
      "_view_module_version": "1.5.0",
      "_view_name": "HTMLView",
      "description": "",
      "description_tooltip": null,
      "layout": "IPY_MODEL_e45160f8471248d28e01c36b62abcf3d",
      "placeholder": "​",
      "style": "IPY_MODEL_9b4d26fa50ed408abe9d87889689c852",
      "value": "600-th epoch, loss: 1.0398, train accuracy: 0.50: 100%"
     }
    },
    "c4ba642d2e7c4530980a7f3a52cd56a4": {
     "model_module": "@jupyter-widgets/controls",
     "model_module_version": "1.5.0",
     "model_name": "HTMLModel",
     "state": {
      "_dom_classes": [],
      "_model_module": "@jupyter-widgets/controls",
      "_model_module_version": "1.5.0",
      "_model_name": "HTMLModel",
      "_view_count": null,
      "_view_module": "@jupyter-widgets/controls",
      "_view_module_version": "1.5.0",
      "_view_name": "HTMLView",
      "description": "",
      "description_tooltip": null,
      "layout": "IPY_MODEL_aaaebbe28c9a4bcf90cdfb032da5fb15",
      "placeholder": "​",
      "style": "IPY_MODEL_fa5d28343de047cea109376e997b78fa",
      "value": " 800/800 [00:07&lt;00:00, 113.73it/s]"
     }
    },
    "c7ddcae957c7489ab36b45598261a499": {
     "model_module": "@jupyter-widgets/controls",
     "model_module_version": "1.5.0",
     "model_name": "FloatProgressModel",
     "state": {
      "_dom_classes": [],
      "_model_module": "@jupyter-widgets/controls",
      "_model_module_version": "1.5.0",
      "_model_name": "FloatProgressModel",
      "_view_count": null,
      "_view_module": "@jupyter-widgets/controls",
      "_view_module_version": "1.5.0",
      "_view_name": "ProgressView",
      "bar_style": "success",
      "description": "",
      "description_tooltip": null,
      "layout": "IPY_MODEL_8b1e9965e7704699991d1f2444b6a538",
      "max": 600,
      "min": 0,
      "orientation": "horizontal",
      "style": "IPY_MODEL_54346be0e3bb423d88c09845f0ce408d",
      "value": 600
     }
    },
    "c959a896b9bc40eebcf7c58bd1d2a63f": {
     "model_module": "@jupyter-widgets/base",
     "model_module_version": "1.2.0",
     "model_name": "LayoutModel",
     "state": {
      "_model_module": "@jupyter-widgets/base",
      "_model_module_version": "1.2.0",
      "_model_name": "LayoutModel",
      "_view_count": null,
      "_view_module": "@jupyter-widgets/base",
      "_view_module_version": "1.2.0",
      "_view_name": "LayoutView",
      "align_content": null,
      "align_items": null,
      "align_self": null,
      "border": null,
      "bottom": null,
      "display": null,
      "flex": null,
      "flex_flow": null,
      "grid_area": null,
      "grid_auto_columns": null,
      "grid_auto_flow": null,
      "grid_auto_rows": null,
      "grid_column": null,
      "grid_gap": null,
      "grid_row": null,
      "grid_template_areas": null,
      "grid_template_columns": null,
      "grid_template_rows": null,
      "height": null,
      "justify_content": null,
      "justify_items": null,
      "left": null,
      "margin": null,
      "max_height": null,
      "max_width": null,
      "min_height": null,
      "min_width": null,
      "object_fit": null,
      "object_position": null,
      "order": null,
      "overflow": null,
      "overflow_x": null,
      "overflow_y": null,
      "padding": null,
      "right": null,
      "top": null,
      "visibility": null,
      "width": null
     }
    },
    "cafb25e0852248d49bca1f323db2c546": {
     "model_module": "@jupyter-widgets/controls",
     "model_module_version": "1.5.0",
     "model_name": "DescriptionStyleModel",
     "state": {
      "_model_module": "@jupyter-widgets/controls",
      "_model_module_version": "1.5.0",
      "_model_name": "DescriptionStyleModel",
      "_view_count": null,
      "_view_module": "@jupyter-widgets/base",
      "_view_module_version": "1.2.0",
      "_view_name": "StyleView",
      "description_width": ""
     }
    },
    "ccd28704434b4ff3bd0df2eeb99bbce8": {
     "model_module": "@jupyter-widgets/controls",
     "model_module_version": "1.5.0",
     "model_name": "DescriptionStyleModel",
     "state": {
      "_model_module": "@jupyter-widgets/controls",
      "_model_module_version": "1.5.0",
      "_model_name": "DescriptionStyleModel",
      "_view_count": null,
      "_view_module": "@jupyter-widgets/base",
      "_view_module_version": "1.2.0",
      "_view_name": "StyleView",
      "description_width": ""
     }
    },
    "cd12f293d1c24f19ab25b35045d361ac": {
     "model_module": "@jupyter-widgets/controls",
     "model_module_version": "1.5.0",
     "model_name": "FloatProgressModel",
     "state": {
      "_dom_classes": [],
      "_model_module": "@jupyter-widgets/controls",
      "_model_module_version": "1.5.0",
      "_model_name": "FloatProgressModel",
      "_view_count": null,
      "_view_module": "@jupyter-widgets/controls",
      "_view_module_version": "1.5.0",
      "_view_name": "ProgressView",
      "bar_style": "success",
      "description": "",
      "description_tooltip": null,
      "layout": "IPY_MODEL_a20ee8e9666840a083c98089fdf151c8",
      "max": 800,
      "min": 0,
      "orientation": "horizontal",
      "style": "IPY_MODEL_193cc282e07e47efb498df866657d3b3",
      "value": 800
     }
    },
    "cd42db83fbe7466ab4a8d02ab01d68da": {
     "model_module": "@jupyter-widgets/base",
     "model_module_version": "1.2.0",
     "model_name": "LayoutModel",
     "state": {
      "_model_module": "@jupyter-widgets/base",
      "_model_module_version": "1.2.0",
      "_model_name": "LayoutModel",
      "_view_count": null,
      "_view_module": "@jupyter-widgets/base",
      "_view_module_version": "1.2.0",
      "_view_name": "LayoutView",
      "align_content": null,
      "align_items": null,
      "align_self": null,
      "border": null,
      "bottom": null,
      "display": null,
      "flex": null,
      "flex_flow": null,
      "grid_area": null,
      "grid_auto_columns": null,
      "grid_auto_flow": null,
      "grid_auto_rows": null,
      "grid_column": null,
      "grid_gap": null,
      "grid_row": null,
      "grid_template_areas": null,
      "grid_template_columns": null,
      "grid_template_rows": null,
      "height": null,
      "justify_content": null,
      "justify_items": null,
      "left": null,
      "margin": null,
      "max_height": null,
      "max_width": null,
      "min_height": null,
      "min_width": null,
      "object_fit": null,
      "object_position": null,
      "order": null,
      "overflow": null,
      "overflow_x": null,
      "overflow_y": null,
      "padding": null,
      "right": null,
      "top": null,
      "visibility": null,
      "width": null
     }
    },
    "cdc40afbebfc4d1f89324bffc67c37f1": {
     "model_module": "@jupyter-widgets/controls",
     "model_module_version": "1.5.0",
     "model_name": "FloatProgressModel",
     "state": {
      "_dom_classes": [],
      "_model_module": "@jupyter-widgets/controls",
      "_model_module_version": "1.5.0",
      "_model_name": "FloatProgressModel",
      "_view_count": null,
      "_view_module": "@jupyter-widgets/controls",
      "_view_module_version": "1.5.0",
      "_view_name": "ProgressView",
      "bar_style": "success",
      "description": "",
      "description_tooltip": null,
      "layout": "IPY_MODEL_823d5017ce17481bbdabf1d0d6305e72",
      "max": 50000,
      "min": 0,
      "orientation": "horizontal",
      "style": "IPY_MODEL_f66b46d96b914688b6528d6bb0aa12e5",
      "value": 50000
     }
    },
    "d27aac057ca340afb27b4dd4b87ce7a0": {
     "model_module": "@jupyter-widgets/base",
     "model_module_version": "1.2.0",
     "model_name": "LayoutModel",
     "state": {
      "_model_module": "@jupyter-widgets/base",
      "_model_module_version": "1.2.0",
      "_model_name": "LayoutModel",
      "_view_count": null,
      "_view_module": "@jupyter-widgets/base",
      "_view_module_version": "1.2.0",
      "_view_name": "LayoutView",
      "align_content": null,
      "align_items": null,
      "align_self": null,
      "border": null,
      "bottom": null,
      "display": null,
      "flex": null,
      "flex_flow": null,
      "grid_area": null,
      "grid_auto_columns": null,
      "grid_auto_flow": null,
      "grid_auto_rows": null,
      "grid_column": null,
      "grid_gap": null,
      "grid_row": null,
      "grid_template_areas": null,
      "grid_template_columns": null,
      "grid_template_rows": null,
      "height": null,
      "justify_content": null,
      "justify_items": null,
      "left": null,
      "margin": null,
      "max_height": null,
      "max_width": null,
      "min_height": null,
      "min_width": null,
      "object_fit": null,
      "object_position": null,
      "order": null,
      "overflow": null,
      "overflow_x": null,
      "overflow_y": null,
      "padding": null,
      "right": null,
      "top": null,
      "visibility": null,
      "width": null
     }
    },
    "d2930118b66b4245a8ec6321bfc27312": {
     "model_module": "@jupyter-widgets/controls",
     "model_module_version": "1.5.0",
     "model_name": "DescriptionStyleModel",
     "state": {
      "_model_module": "@jupyter-widgets/controls",
      "_model_module_version": "1.5.0",
      "_model_name": "DescriptionStyleModel",
      "_view_count": null,
      "_view_module": "@jupyter-widgets/base",
      "_view_module_version": "1.2.0",
      "_view_name": "StyleView",
      "description_width": ""
     }
    },
    "d7c9e8726f754cbf864ba71738c3f2bf": {
     "model_module": "@jupyter-widgets/controls",
     "model_module_version": "1.5.0",
     "model_name": "HTMLModel",
     "state": {
      "_dom_classes": [],
      "_model_module": "@jupyter-widgets/controls",
      "_model_module_version": "1.5.0",
      "_model_name": "HTMLModel",
      "_view_count": null,
      "_view_module": "@jupyter-widgets/controls",
      "_view_module_version": "1.5.0",
      "_view_name": "HTMLView",
      "description": "",
      "description_tooltip": null,
      "layout": "IPY_MODEL_07ec248ecf774de7a5b7a3cf97b1d6a0",
      "placeholder": "​",
      "style": "IPY_MODEL_16706e18df734b41bf6faea83bf045b1",
      "value": " 50000/50000 [01:07&lt;00:00, 630.36it/s]"
     }
    },
    "d9511de1cadd45049d90f5b776d481d5": {
     "model_module": "@jupyter-widgets/controls",
     "model_module_version": "1.5.0",
     "model_name": "HBoxModel",
     "state": {
      "_dom_classes": [],
      "_model_module": "@jupyter-widgets/controls",
      "_model_module_version": "1.5.0",
      "_model_name": "HBoxModel",
      "_view_count": null,
      "_view_module": "@jupyter-widgets/controls",
      "_view_module_version": "1.5.0",
      "_view_name": "HBoxView",
      "box_style": "",
      "children": [
       "IPY_MODEL_082d9be26f144b5d98be7f7e3a7c7868",
       "IPY_MODEL_157790fed4944f6ba16f7ee0e01ce27b",
       "IPY_MODEL_0b2891151776498e912fb9bbe9991c24"
      ],
      "layout": "IPY_MODEL_a55a30c2f6dd49c5821f202f53eae5cd"
     }
    },
    "da747adebbea4fa7a37b9a20d10f6773": {
     "model_module": "@jupyter-widgets/base",
     "model_module_version": "1.2.0",
     "model_name": "LayoutModel",
     "state": {
      "_model_module": "@jupyter-widgets/base",
      "_model_module_version": "1.2.0",
      "_model_name": "LayoutModel",
      "_view_count": null,
      "_view_module": "@jupyter-widgets/base",
      "_view_module_version": "1.2.0",
      "_view_name": "LayoutView",
      "align_content": null,
      "align_items": null,
      "align_self": null,
      "border": null,
      "bottom": null,
      "display": null,
      "flex": null,
      "flex_flow": null,
      "grid_area": null,
      "grid_auto_columns": null,
      "grid_auto_flow": null,
      "grid_auto_rows": null,
      "grid_column": null,
      "grid_gap": null,
      "grid_row": null,
      "grid_template_areas": null,
      "grid_template_columns": null,
      "grid_template_rows": null,
      "height": null,
      "justify_content": null,
      "justify_items": null,
      "left": null,
      "margin": null,
      "max_height": null,
      "max_width": null,
      "min_height": null,
      "min_width": null,
      "object_fit": null,
      "object_position": null,
      "order": null,
      "overflow": null,
      "overflow_x": null,
      "overflow_y": null,
      "padding": null,
      "right": null,
      "top": null,
      "visibility": null,
      "width": null
     }
    },
    "db93059441964fe589267113e9541ba9": {
     "model_module": "@jupyter-widgets/base",
     "model_module_version": "1.2.0",
     "model_name": "LayoutModel",
     "state": {
      "_model_module": "@jupyter-widgets/base",
      "_model_module_version": "1.2.0",
      "_model_name": "LayoutModel",
      "_view_count": null,
      "_view_module": "@jupyter-widgets/base",
      "_view_module_version": "1.2.0",
      "_view_name": "LayoutView",
      "align_content": null,
      "align_items": null,
      "align_self": null,
      "border": null,
      "bottom": null,
      "display": null,
      "flex": null,
      "flex_flow": null,
      "grid_area": null,
      "grid_auto_columns": null,
      "grid_auto_flow": null,
      "grid_auto_rows": null,
      "grid_column": null,
      "grid_gap": null,
      "grid_row": null,
      "grid_template_areas": null,
      "grid_template_columns": null,
      "grid_template_rows": null,
      "height": null,
      "justify_content": null,
      "justify_items": null,
      "left": null,
      "margin": null,
      "max_height": null,
      "max_width": null,
      "min_height": null,
      "min_width": null,
      "object_fit": null,
      "object_position": null,
      "order": null,
      "overflow": null,
      "overflow_x": null,
      "overflow_y": null,
      "padding": null,
      "right": null,
      "top": null,
      "visibility": null,
      "width": null
     }
    },
    "de6c4f26f8914c77b52b274e7b14d810": {
     "model_module": "@jupyter-widgets/base",
     "model_module_version": "1.2.0",
     "model_name": "LayoutModel",
     "state": {
      "_model_module": "@jupyter-widgets/base",
      "_model_module_version": "1.2.0",
      "_model_name": "LayoutModel",
      "_view_count": null,
      "_view_module": "@jupyter-widgets/base",
      "_view_module_version": "1.2.0",
      "_view_name": "LayoutView",
      "align_content": null,
      "align_items": null,
      "align_self": null,
      "border": null,
      "bottom": null,
      "display": null,
      "flex": null,
      "flex_flow": null,
      "grid_area": null,
      "grid_auto_columns": null,
      "grid_auto_flow": null,
      "grid_auto_rows": null,
      "grid_column": null,
      "grid_gap": null,
      "grid_row": null,
      "grid_template_areas": null,
      "grid_template_columns": null,
      "grid_template_rows": null,
      "height": null,
      "justify_content": null,
      "justify_items": null,
      "left": null,
      "margin": null,
      "max_height": null,
      "max_width": null,
      "min_height": null,
      "min_width": null,
      "object_fit": null,
      "object_position": null,
      "order": null,
      "overflow": null,
      "overflow_x": null,
      "overflow_y": null,
      "padding": null,
      "right": null,
      "top": null,
      "visibility": null,
      "width": null
     }
    },
    "e45160f8471248d28e01c36b62abcf3d": {
     "model_module": "@jupyter-widgets/base",
     "model_module_version": "1.2.0",
     "model_name": "LayoutModel",
     "state": {
      "_model_module": "@jupyter-widgets/base",
      "_model_module_version": "1.2.0",
      "_model_name": "LayoutModel",
      "_view_count": null,
      "_view_module": "@jupyter-widgets/base",
      "_view_module_version": "1.2.0",
      "_view_name": "LayoutView",
      "align_content": null,
      "align_items": null,
      "align_self": null,
      "border": null,
      "bottom": null,
      "display": null,
      "flex": null,
      "flex_flow": null,
      "grid_area": null,
      "grid_auto_columns": null,
      "grid_auto_flow": null,
      "grid_auto_rows": null,
      "grid_column": null,
      "grid_gap": null,
      "grid_row": null,
      "grid_template_areas": null,
      "grid_template_columns": null,
      "grid_template_rows": null,
      "height": null,
      "justify_content": null,
      "justify_items": null,
      "left": null,
      "margin": null,
      "max_height": null,
      "max_width": null,
      "min_height": null,
      "min_width": null,
      "object_fit": null,
      "object_position": null,
      "order": null,
      "overflow": null,
      "overflow_x": null,
      "overflow_y": null,
      "padding": null,
      "right": null,
      "top": null,
      "visibility": null,
      "width": null
     }
    },
    "ea993c767f784ec29ef5d40f0626bf66": {
     "model_module": "@jupyter-widgets/base",
     "model_module_version": "1.2.0",
     "model_name": "LayoutModel",
     "state": {
      "_model_module": "@jupyter-widgets/base",
      "_model_module_version": "1.2.0",
      "_model_name": "LayoutModel",
      "_view_count": null,
      "_view_module": "@jupyter-widgets/base",
      "_view_module_version": "1.2.0",
      "_view_name": "LayoutView",
      "align_content": null,
      "align_items": null,
      "align_self": null,
      "border": null,
      "bottom": null,
      "display": null,
      "flex": null,
      "flex_flow": null,
      "grid_area": null,
      "grid_auto_columns": null,
      "grid_auto_flow": null,
      "grid_auto_rows": null,
      "grid_column": null,
      "grid_gap": null,
      "grid_row": null,
      "grid_template_areas": null,
      "grid_template_columns": null,
      "grid_template_rows": null,
      "height": null,
      "justify_content": null,
      "justify_items": null,
      "left": null,
      "margin": null,
      "max_height": null,
      "max_width": null,
      "min_height": null,
      "min_width": null,
      "object_fit": null,
      "object_position": null,
      "order": null,
      "overflow": null,
      "overflow_x": null,
      "overflow_y": null,
      "padding": null,
      "right": null,
      "top": null,
      "visibility": null,
      "width": null
     }
    },
    "eae292819367400eb56d12e3d6c93219": {
     "model_module": "@jupyter-widgets/base",
     "model_module_version": "1.2.0",
     "model_name": "LayoutModel",
     "state": {
      "_model_module": "@jupyter-widgets/base",
      "_model_module_version": "1.2.0",
      "_model_name": "LayoutModel",
      "_view_count": null,
      "_view_module": "@jupyter-widgets/base",
      "_view_module_version": "1.2.0",
      "_view_name": "LayoutView",
      "align_content": null,
      "align_items": null,
      "align_self": null,
      "border": null,
      "bottom": null,
      "display": null,
      "flex": null,
      "flex_flow": null,
      "grid_area": null,
      "grid_auto_columns": null,
      "grid_auto_flow": null,
      "grid_auto_rows": null,
      "grid_column": null,
      "grid_gap": null,
      "grid_row": null,
      "grid_template_areas": null,
      "grid_template_columns": null,
      "grid_template_rows": null,
      "height": null,
      "justify_content": null,
      "justify_items": null,
      "left": null,
      "margin": null,
      "max_height": null,
      "max_width": null,
      "min_height": null,
      "min_width": null,
      "object_fit": null,
      "object_position": null,
      "order": null,
      "overflow": null,
      "overflow_x": null,
      "overflow_y": null,
      "padding": null,
      "right": null,
      "top": null,
      "visibility": null,
      "width": null
     }
    },
    "eb6ade9918e743ab8d5d4bc4bd5bc554": {
     "model_module": "@jupyter-widgets/base",
     "model_module_version": "1.2.0",
     "model_name": "LayoutModel",
     "state": {
      "_model_module": "@jupyter-widgets/base",
      "_model_module_version": "1.2.0",
      "_model_name": "LayoutModel",
      "_view_count": null,
      "_view_module": "@jupyter-widgets/base",
      "_view_module_version": "1.2.0",
      "_view_name": "LayoutView",
      "align_content": null,
      "align_items": null,
      "align_self": null,
      "border": null,
      "bottom": null,
      "display": null,
      "flex": null,
      "flex_flow": null,
      "grid_area": null,
      "grid_auto_columns": null,
      "grid_auto_flow": null,
      "grid_auto_rows": null,
      "grid_column": null,
      "grid_gap": null,
      "grid_row": null,
      "grid_template_areas": null,
      "grid_template_columns": null,
      "grid_template_rows": null,
      "height": null,
      "justify_content": null,
      "justify_items": null,
      "left": null,
      "margin": null,
      "max_height": null,
      "max_width": null,
      "min_height": null,
      "min_width": null,
      "object_fit": null,
      "object_position": null,
      "order": null,
      "overflow": null,
      "overflow_x": null,
      "overflow_y": null,
      "padding": null,
      "right": null,
      "top": null,
      "visibility": null,
      "width": null
     }
    },
    "ed40e4050a6e439a81ad7530ba5e888a": {
     "model_module": "@jupyter-widgets/controls",
     "model_module_version": "1.5.0",
     "model_name": "HTMLModel",
     "state": {
      "_dom_classes": [],
      "_model_module": "@jupyter-widgets/controls",
      "_model_module_version": "1.5.0",
      "_model_name": "HTMLModel",
      "_view_count": null,
      "_view_module": "@jupyter-widgets/controls",
      "_view_module_version": "1.5.0",
      "_view_name": "HTMLView",
      "description": "",
      "description_tooltip": null,
      "layout": "IPY_MODEL_ea993c767f784ec29ef5d40f0626bf66",
      "placeholder": "​",
      "style": "IPY_MODEL_6636ab78a5104e488bfe217a541c19cf",
      "value": " 200/200 [00:32&lt;00:00,  6.53it/s]"
     }
    },
    "ee57fd8d06f941d4b0dfb27f5f0e677f": {
     "model_module": "@jupyter-widgets/controls",
     "model_module_version": "1.5.0",
     "model_name": "HTMLModel",
     "state": {
      "_dom_classes": [],
      "_model_module": "@jupyter-widgets/controls",
      "_model_module_version": "1.5.0",
      "_model_name": "HTMLModel",
      "_view_count": null,
      "_view_module": "@jupyter-widgets/controls",
      "_view_module_version": "1.5.0",
      "_view_name": "HTMLView",
      "description": "",
      "description_tooltip": null,
      "layout": "IPY_MODEL_f782818d403849e4ab7b5786071ce9b8",
      "placeholder": "​",
      "style": "IPY_MODEL_6de329c276e94cf29208beb8849614f6",
      "value": "400-th epoch, loss: 0.0036, train accuracy: 1.00: 100%"
     }
    },
    "eed2ec1a8c6143b9b6df8cb8e56a660b": {
     "model_module": "@jupyter-widgets/base",
     "model_module_version": "1.2.0",
     "model_name": "LayoutModel",
     "state": {
      "_model_module": "@jupyter-widgets/base",
      "_model_module_version": "1.2.0",
      "_model_name": "LayoutModel",
      "_view_count": null,
      "_view_module": "@jupyter-widgets/base",
      "_view_module_version": "1.2.0",
      "_view_name": "LayoutView",
      "align_content": null,
      "align_items": null,
      "align_self": null,
      "border": null,
      "bottom": null,
      "display": null,
      "flex": null,
      "flex_flow": null,
      "grid_area": null,
      "grid_auto_columns": null,
      "grid_auto_flow": null,
      "grid_auto_rows": null,
      "grid_column": null,
      "grid_gap": null,
      "grid_row": null,
      "grid_template_areas": null,
      "grid_template_columns": null,
      "grid_template_rows": null,
      "height": null,
      "justify_content": null,
      "justify_items": null,
      "left": null,
      "margin": null,
      "max_height": null,
      "max_width": null,
      "min_height": null,
      "min_width": null,
      "object_fit": null,
      "object_position": null,
      "order": null,
      "overflow": null,
      "overflow_x": null,
      "overflow_y": null,
      "padding": null,
      "right": null,
      "top": null,
      "visibility": null,
      "width": null
     }
    },
    "ef278c4208f8435c8d6cc1a13bf50f42": {
     "model_module": "@jupyter-widgets/base",
     "model_module_version": "1.2.0",
     "model_name": "LayoutModel",
     "state": {
      "_model_module": "@jupyter-widgets/base",
      "_model_module_version": "1.2.0",
      "_model_name": "LayoutModel",
      "_view_count": null,
      "_view_module": "@jupyter-widgets/base",
      "_view_module_version": "1.2.0",
      "_view_name": "LayoutView",
      "align_content": null,
      "align_items": null,
      "align_self": null,
      "border": null,
      "bottom": null,
      "display": null,
      "flex": null,
      "flex_flow": null,
      "grid_area": null,
      "grid_auto_columns": null,
      "grid_auto_flow": null,
      "grid_auto_rows": null,
      "grid_column": null,
      "grid_gap": null,
      "grid_row": null,
      "grid_template_areas": null,
      "grid_template_columns": null,
      "grid_template_rows": null,
      "height": null,
      "justify_content": null,
      "justify_items": null,
      "left": null,
      "margin": null,
      "max_height": null,
      "max_width": null,
      "min_height": null,
      "min_width": null,
      "object_fit": null,
      "object_position": null,
      "order": null,
      "overflow": null,
      "overflow_x": null,
      "overflow_y": null,
      "padding": null,
      "right": null,
      "top": null,
      "visibility": null,
      "width": null
     }
    },
    "ef7541662c074ff2aca1ddfac4888def": {
     "model_module": "@jupyter-widgets/controls",
     "model_module_version": "1.5.0",
     "model_name": "DescriptionStyleModel",
     "state": {
      "_model_module": "@jupyter-widgets/controls",
      "_model_module_version": "1.5.0",
      "_model_name": "DescriptionStyleModel",
      "_view_count": null,
      "_view_module": "@jupyter-widgets/base",
      "_view_module_version": "1.2.0",
      "_view_name": "StyleView",
      "description_width": ""
     }
    },
    "f66b46d96b914688b6528d6bb0aa12e5": {
     "model_module": "@jupyter-widgets/controls",
     "model_module_version": "1.5.0",
     "model_name": "ProgressStyleModel",
     "state": {
      "_model_module": "@jupyter-widgets/controls",
      "_model_module_version": "1.5.0",
      "_model_name": "ProgressStyleModel",
      "_view_count": null,
      "_view_module": "@jupyter-widgets/base",
      "_view_module_version": "1.2.0",
      "_view_name": "StyleView",
      "bar_color": null,
      "description_width": ""
     }
    },
    "f782818d403849e4ab7b5786071ce9b8": {
     "model_module": "@jupyter-widgets/base",
     "model_module_version": "1.2.0",
     "model_name": "LayoutModel",
     "state": {
      "_model_module": "@jupyter-widgets/base",
      "_model_module_version": "1.2.0",
      "_model_name": "LayoutModel",
      "_view_count": null,
      "_view_module": "@jupyter-widgets/base",
      "_view_module_version": "1.2.0",
      "_view_name": "LayoutView",
      "align_content": null,
      "align_items": null,
      "align_self": null,
      "border": null,
      "bottom": null,
      "display": null,
      "flex": null,
      "flex_flow": null,
      "grid_area": null,
      "grid_auto_columns": null,
      "grid_auto_flow": null,
      "grid_auto_rows": null,
      "grid_column": null,
      "grid_gap": null,
      "grid_row": null,
      "grid_template_areas": null,
      "grid_template_columns": null,
      "grid_template_rows": null,
      "height": null,
      "justify_content": null,
      "justify_items": null,
      "left": null,
      "margin": null,
      "max_height": null,
      "max_width": null,
      "min_height": null,
      "min_width": null,
      "object_fit": null,
      "object_position": null,
      "order": null,
      "overflow": null,
      "overflow_x": null,
      "overflow_y": null,
      "padding": null,
      "right": null,
      "top": null,
      "visibility": null,
      "width": null
     }
    },
    "f83e5b83f7694d73985b6e0eacc605fe": {
     "model_module": "@jupyter-widgets/controls",
     "model_module_version": "1.5.0",
     "model_name": "FloatProgressModel",
     "state": {
      "_dom_classes": [],
      "_model_module": "@jupyter-widgets/controls",
      "_model_module_version": "1.5.0",
      "_model_name": "FloatProgressModel",
      "_view_count": null,
      "_view_module": "@jupyter-widgets/controls",
      "_view_module_version": "1.5.0",
      "_view_name": "ProgressView",
      "bar_style": "success",
      "description": "",
      "description_tooltip": null,
      "layout": "IPY_MODEL_da747adebbea4fa7a37b9a20d10f6773",
      "max": 200,
      "min": 0,
      "orientation": "horizontal",
      "style": "IPY_MODEL_c240779f1552463eb0bd011243897b24",
      "value": 200
     }
    },
    "fa5d28343de047cea109376e997b78fa": {
     "model_module": "@jupyter-widgets/controls",
     "model_module_version": "1.5.0",
     "model_name": "DescriptionStyleModel",
     "state": {
      "_model_module": "@jupyter-widgets/controls",
      "_model_module_version": "1.5.0",
      "_model_name": "DescriptionStyleModel",
      "_view_count": null,
      "_view_module": "@jupyter-widgets/base",
      "_view_module_version": "1.2.0",
      "_view_name": "StyleView",
      "description_width": ""
     }
    },
    "fb42aaa5010f4ddf838d19d3d271e182": {
     "model_module": "@jupyter-widgets/base",
     "model_module_version": "1.2.0",
     "model_name": "LayoutModel",
     "state": {
      "_model_module": "@jupyter-widgets/base",
      "_model_module_version": "1.2.0",
      "_model_name": "LayoutModel",
      "_view_count": null,
      "_view_module": "@jupyter-widgets/base",
      "_view_module_version": "1.2.0",
      "_view_name": "LayoutView",
      "align_content": null,
      "align_items": null,
      "align_self": null,
      "border": null,
      "bottom": null,
      "display": null,
      "flex": null,
      "flex_flow": null,
      "grid_area": null,
      "grid_auto_columns": null,
      "grid_auto_flow": null,
      "grid_auto_rows": null,
      "grid_column": null,
      "grid_gap": null,
      "grid_row": null,
      "grid_template_areas": null,
      "grid_template_columns": null,
      "grid_template_rows": null,
      "height": null,
      "justify_content": null,
      "justify_items": null,
      "left": null,
      "margin": null,
      "max_height": null,
      "max_width": null,
      "min_height": null,
      "min_width": null,
      "object_fit": null,
      "object_position": null,
      "order": null,
      "overflow": null,
      "overflow_x": null,
      "overflow_y": null,
      "padding": null,
      "right": null,
      "top": null,
      "visibility": null,
      "width": null
     }
    },
    "ff910fdfc8e54a90acc1736e40941da0": {
     "model_module": "@jupyter-widgets/controls",
     "model_module_version": "1.5.0",
     "model_name": "HTMLModel",
     "state": {
      "_dom_classes": [],
      "_model_module": "@jupyter-widgets/controls",
      "_model_module_version": "1.5.0",
      "_model_name": "HTMLModel",
      "_view_count": null,
      "_view_module": "@jupyter-widgets/controls",
      "_view_module_version": "1.5.0",
      "_view_name": "HTMLView",
      "description": "",
      "description_tooltip": null,
      "layout": "IPY_MODEL_60a94602d1744dec8efe9404781afb74",
      "placeholder": "​",
      "style": "IPY_MODEL_878f4d328d2e48769f16e3d79fb3a940",
      "value": "200-th epoch, loss: 0.0036, train accuracy: 1.00: 100%"
     }
    }
   }
  }
 },
 "nbformat": 4,
 "nbformat_minor": 5
}
