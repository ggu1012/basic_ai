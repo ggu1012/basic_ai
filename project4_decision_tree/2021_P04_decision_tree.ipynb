{
 "cells": [
  {
   "cell_type": "markdown",
   "id": "9a5a3a6d",
   "metadata": {},
   "source": [
    "> ### EEE3314: Introduction to Artificial Intelligence\n",
    "\n",
    "# Assignment \\# IV:  Decision Tree"
   ]
  },
  {
   "cell_type": "markdown",
   "id": "683860e8",
   "metadata": {},
   "source": [
    "### *Assignement Instructions:*\n",
    "- **Due date**: 11 PM, Oct. 29, 2021\n",
    "- **File name**: ID_Name_HW4.ipynb\n",
    "- Write a program implementing a particular algorithm to solve a given problem.   \n",
    "- **Analyze the algorithm, theoretically and empirically. Report and discuss your results.**\n",
    "\n",
    "### *Collaboration policy:*\n",
    "- You may discuss the questions with your friends, but each student writes their own codes and answers.  \n",
    "- **Cheating is strictly prohibited, and will be considered academic dishonesty. This is not how you want to start your career as an engineer.**\n",
    "We expect that most students can distinguish between helping other students and cheating. Explaining the meaning of a question or discussing a way of approaching a solution is an interaction. But you should write your homework solution strictly by your so that your hands and eyes can help you internalize the subject matter. You should acknowledge everyone whom you have worked with, or who has given you any significant ideas about the homework.\n",
    "- Signiture: <span style=\"color:blue\">[Insert your ID HERE] [Insert your name HERE]</span>"
   ]
  },
  {
   "cell_type": "code",
   "execution_count": 2,
   "id": "566277a1",
   "metadata": {},
   "outputs": [],
   "source": [
    "import datetime\n",
    "# print(\"This code is written at \" + str(datetime.datetime.now()))"
   ]
  },
  {
   "cell_type": "code",
   "execution_count": 3,
   "id": "716b3590",
   "metadata": {},
   "outputs": [],
   "source": [
    "%load_ext autoreload\n",
    "%autoreload 2\n",
    "%matplotlib inline"
   ]
  },
  {
   "cell_type": "markdown",
   "id": "e37976a4",
   "metadata": {},
   "source": [
    "## Problem statement"
   ]
  },
  {
   "cell_type": "markdown",
   "id": "fb9a540a",
   "metadata": {},
   "source": [
    "In clinical informatics, machine learning has been widely exploited to diagnose diseases. In this project, we will design a method for a medical diagnosis using machine learning that determines whether a patient has diabetes or not. To this end, we will implement a $Decision Tree$ model, and train/test the model with the Pima Indians Diabetes Data Set. The dataset provides the following information (features) for each patient.\n",
    "\n",
    "- $\\texttt{label}$: The output class variable (0 - normal or 1 - diabetes)  \n",
    "- $\\texttt{num-preg}$: Number of times pregnant \n",
    "- $\\texttt{PGC}$: Plasma glucose concentration at 2 hours in an oral glucose tolerance test (PGC)\n",
    "- $\\texttt{DBP}$: Diastolic blood pressure (DBP)\n",
    "- $\\texttt{tricept}$: Triceps skin fold thickness (tricept, unit: mm)  \n",
    "- $\\texttt{insulin}$: 2-Hour serum insulin (insulin, unit: μU/ml)\n",
    "- $\\texttt{BMI}$: Body mass index (BMI)\n",
    "- $\\texttt{ped-func}$: Diabetes pedigree function\n",
    "- $\\texttt{age}$: Age (age, years)\n",
    "\n",
    "A total number of samples (patients) are 768, where 500 patients are chosen as training samples ($\\texttt{diabetes-training-data.csv}$), and the remaining 268 patients are test samples ($\\texttt{diabetes-test-data.csv}$)."
   ]
  },
  {
   "cell_type": "markdown",
   "id": "981ed5d2",
   "metadata": {},
   "source": [
    "### P1. Decision Trees\n",
    "\n",
    "P1.1 Implement a decision tree method for classification (```DecisionTrees``` class) (*60 points*) \n",
    "\n",
    "> **Instruction:** \n",
    ">\n",
    ">The main design choice we would consider for the decision tree is the criterion for selecting the best split for each node. Instead of the classification error, we will implement a binary decision tree in this project by choosing features and thresholds that yield the largest improvement in terms of the **Gini impurity** at each node. That is, we  choose the features and thresholds greedly providing the minimum **weighted Gini impurity** for each node. Concretly, let's denote by $H$ a function computing the Gini impurity. The weighted Gini impurity for the $j$ th feature and the threshold value $t$ is then defined as follows:\n",
    ">\n",
    ">$\n",
    "G(j,t) = \\Big(\\frac{N_\\text{left}}{N}\\Big) H(M_\\text{left})  + \\Big(\\frac{N_\\text{right}}{N}\\Big) H(M_\\text{right}),\n",
    "$\n",
    ">\n",
    ">where $M_\\text{left}$ and $M_\\text{right}$ are subsets of training samples for left and right nodes, respectively, which are splitted from training samples of a parent node (e.g., diabetes for the left node and normal for the right node), according to the feature and threshold. This suggests that $M_\\text{left}$ and $M_\\text{right}$ could vary for different choices of features and thresholds, and our objective is to find the features and thresholds that give the minumum weighted Gini impurity for each node as follows:\n",
    ">\n",
    ">$\n",
    "(j^*, t^*) = \\operatorname{argmin}_{j, t}  G(j, t).\n",
    "$\n",
    ">\n",
    ">This process is repeated until reaching at least one of stopping condtions.\n",
    ">\n",
    ">\n",
    "> **Gini impurity:**\n",
    ">\n",
    "> Gini impurity measures the *impurity* of nodes and it is computed by 1- Gini. More formally, it can computed by summing the probability of an item labeled with the class i being chosen (denoted by $p_i$) times the probability  of a mistake in categorizing that item (i.e., $\\sum _{k\\neq i}p_{k}=1-p_{i}$). That is,\n",
    ">\n",
    ">$\n",
    "{I}_{G}(p)=\\sum_{i=1}^{J}\\left(p_{i}\\sum _{k\\neq i}p_{k}\\right)=\\sum _{i=1}^{J}p_{i}(1-p_{i})=\\sum _{i=1}^{J}(p_{i}-p_{i}^{2})=\\sum _{i=1}^{J}p_{i}-\\sum _{i=1}^{J}p_{i}^{2}=1-\\sum _{i=1}^{J}p_{i}^{2},\n",
    "$\n",
    ">\n",
    ">where $i\\in \\{1,2,...,J\\}$, and $J$ is the number of classes. The Gini impurity reaches its minimum (zero), when all samples in the node fall into a single class. This suggests that the optimum split for the decision tree could be chosen by the features and thresholds with less Gini impurity. See for more details [Wiki](https://en.wikipedia.org/wiki/Decision_tree_learning#Gini_impurity)  \n",
    ">\n",
    ">\n",
    "> **Implementation details:**  \n",
    "> 1. We implement the decision tree using a Python dictionary data structure in a *Depth First Search (DFS)* manner. Each node could have various attributes, e.g., `feature`, `threshold`, `left`, `right`, `impurity`, `is_leaf`, and `prediction`. \n",
    "> 2. If we reach a leaf node, the prediction is done by the majority class.\n",
    "> 3. Stopping condition\n",
    ">> - All samples in a node have the same target value \n",
    ">> - No more features to split on\n",
    ">4. Early stopping condition  \n",
    ">> - The maximum depth level of a tree (`max_depth`) is reached.\n",
    ">> - The data samples for a node is below `min_split`.\n",
    ">> - The split does not improve the weighted Gini impurity.\n",
    ">\n",
    ">5. Hint: Use indicies and sorting for efficiency\n",
    "\n",
    "\n",
    "P1.2 Plot the depth, the number of nodes and the classification accuracy on training samples and test samples by varying maximum depth levels of a decision tree from 1 to 15. (*10 points*)\n",
    "\n",
    "P1.3 Implement a `traverse(self)` function that performs a *Breadth First Search (BFS)* on a (binary) decision tree to parse its properties, e.g., impurities of nodes, types of nodes, decision paths, and predictions. See the results below (**P1.3**) for example. (*10 points*)"
   ]
  },
  {
   "cell_type": "code",
   "execution_count": 4,
   "id": "03996320",
   "metadata": {},
   "outputs": [],
   "source": [
    "from project4 import *"
   ]
  },
  {
   "cell_type": "code",
   "execution_count": 5,
   "id": "23a90e3d",
   "metadata": {},
   "outputs": [],
   "source": [
    "import numpy as np\n",
    "import pandas as pd\n",
    "from matplotlib import pyplot as plt\n",
    "\n",
    "from sklearn.model_selection import train_test_split\n",
    "from sklearn import datasets"
   ]
  },
  {
   "cell_type": "markdown",
   "id": "38033525",
   "metadata": {},
   "source": [
    "## Results"
   ]
  },
  {
   "cell_type": "markdown",
   "id": "071eb4a9",
   "metadata": {},
   "source": [
    "### Prepare training samples"
   ]
  },
  {
   "cell_type": "code",
   "execution_count": 6,
   "id": "4e2b4b38",
   "metadata": {},
   "outputs": [],
   "source": [
    "train_csv_path = 'diabetes_training_data.csv'\n",
    "test_csv_path = 'diabetes_testing_data.csv'\n",
    "df_train = pd.read_csv(train_csv_path)\n",
    "df_test = pd.read_csv(test_csv_path)"
   ]
  },
  {
   "cell_type": "code",
   "execution_count": 9,
   "id": "f013080c",
   "metadata": {},
   "outputs": [
    {
     "data": {
      "text/html": [
       "<div>\n",
       "<style scoped>\n",
       "    .dataframe tbody tr th:only-of-type {\n",
       "        vertical-align: middle;\n",
       "    }\n",
       "\n",
       "    .dataframe tbody tr th {\n",
       "        vertical-align: top;\n",
       "    }\n",
       "\n",
       "    .dataframe thead th {\n",
       "        text-align: right;\n",
       "    }\n",
       "</style>\n",
       "<table border=\"1\" class=\"dataframe\">\n",
       "  <thead>\n",
       "    <tr style=\"text-align: right;\">\n",
       "      <th></th>\n",
       "      <th>label</th>\n",
       "      <th>num_preg</th>\n",
       "      <th>PGC</th>\n",
       "      <th>DBP</th>\n",
       "      <th>tricept</th>\n",
       "      <th>insulin</th>\n",
       "      <th>BMI</th>\n",
       "      <th>ped_func</th>\n",
       "      <th>age</th>\n",
       "    </tr>\n",
       "  </thead>\n",
       "  <tbody>\n",
       "    <tr>\n",
       "      <th>0</th>\n",
       "      <td>1</td>\n",
       "      <td>0.470588</td>\n",
       "      <td>0.758794</td>\n",
       "      <td>0.639344</td>\n",
       "      <td>0.507937</td>\n",
       "      <td>0.35</td>\n",
       "      <td>0.639344</td>\n",
       "      <td>0.187020</td>\n",
       "      <td>0.250000</td>\n",
       "    </tr>\n",
       "    <tr>\n",
       "      <th>1</th>\n",
       "      <td>1</td>\n",
       "      <td>0.235294</td>\n",
       "      <td>0.663317</td>\n",
       "      <td>0.000000</td>\n",
       "      <td>0.000000</td>\n",
       "      <td>0.00</td>\n",
       "      <td>0.490313</td>\n",
       "      <td>0.095645</td>\n",
       "      <td>0.033333</td>\n",
       "    </tr>\n",
       "    <tr>\n",
       "      <th>2</th>\n",
       "      <td>0</td>\n",
       "      <td>0.058824</td>\n",
       "      <td>0.467337</td>\n",
       "      <td>0.459016</td>\n",
       "      <td>0.174603</td>\n",
       "      <td>0.00</td>\n",
       "      <td>0.335320</td>\n",
       "      <td>0.144748</td>\n",
       "      <td>0.016667</td>\n",
       "    </tr>\n",
       "    <tr>\n",
       "      <th>3</th>\n",
       "      <td>0</td>\n",
       "      <td>0.058824</td>\n",
       "      <td>0.547739</td>\n",
       "      <td>0.311475</td>\n",
       "      <td>0.285714</td>\n",
       "      <td>0.20</td>\n",
       "      <td>0.344262</td>\n",
       "      <td>0.140478</td>\n",
       "      <td>0.083333</td>\n",
       "    </tr>\n",
       "    <tr>\n",
       "      <th>4</th>\n",
       "      <td>1</td>\n",
       "      <td>0.176471</td>\n",
       "      <td>0.869347</td>\n",
       "      <td>0.688525</td>\n",
       "      <td>0.523810</td>\n",
       "      <td>0.79</td>\n",
       "      <td>0.532042</td>\n",
       "      <td>0.076857</td>\n",
       "      <td>0.016667</td>\n",
       "    </tr>\n",
       "  </tbody>\n",
       "</table>\n",
       "</div>"
      ],
      "text/plain": [
       "   label  num_preg       PGC       DBP   tricept  insulin       BMI  ped_func  \\\n",
       "0      1  0.470588  0.758794  0.639344  0.507937     0.35  0.639344  0.187020   \n",
       "1      1  0.235294  0.663317  0.000000  0.000000     0.00  0.490313  0.095645   \n",
       "2      0  0.058824  0.467337  0.459016  0.174603     0.00  0.335320  0.144748   \n",
       "3      0  0.058824  0.547739  0.311475  0.285714     0.20  0.344262  0.140478   \n",
       "4      1  0.176471  0.869347  0.688525  0.523810     0.79  0.532042  0.076857   \n",
       "\n",
       "        age  \n",
       "0  0.250000  \n",
       "1  0.033333  \n",
       "2  0.016667  \n",
       "3  0.083333  \n",
       "4  0.016667  "
      ]
     },
     "execution_count": 9,
     "metadata": {},
     "output_type": "execute_result"
    }
   ],
   "source": [
    "df_train.head()"
   ]
  },
  {
   "cell_type": "code",
   "execution_count": 35,
   "id": "9808ef63",
   "metadata": {},
   "outputs": [],
   "source": [
    "X_train, y_train = load_data(df_train)\n",
    "X_test, y_test = load_data(df_test)"
   ]
  },
  {
   "cell_type": "markdown",
   "id": "7376fb7b",
   "metadata": {},
   "source": [
    "### Instantiate a decision tree classifier"
   ]
  },
  {
   "cell_type": "code",
   "execution_count": null,
   "id": "6312c075",
   "metadata": {},
   "outputs": [],
   "source": [
    "my_clf = DecisionTree(max_depth = 3, min_splits = 5)"
   ]
  },
  {
   "cell_type": "markdown",
   "id": "396080a3",
   "metadata": {},
   "source": [
    "### P1.1\n"
   ]
  },
  {
   "cell_type": "code",
   "execution_count": null,
   "id": "36602a6a",
   "metadata": {},
   "outputs": [],
   "source": [
    "my_clf.fit(X_train, y_train)"
   ]
  },
  {
   "cell_type": "code",
   "execution_count": null,
   "id": "211e3b1f",
   "metadata": {},
   "outputs": [
    {
     "name": "stdout",
     "output_type": "stream",
     "text": [
      "train accuracy: 0.828\n",
      "test accuracy: 0.7052238805970149\n"
     ]
    }
   ],
   "source": [
    "y_pred  = my_clf.predict(X_train)\n",
    "print(f'train accuracy: {accuracy(y_train, y_pred)}')\n",
    "y_pred = my_clf.predict(X_test)\n",
    "print(f'test accuracy: {accuracy(y_test, y_pred)}')"
   ]
  },
  {
   "cell_type": "markdown",
   "id": "71a7fab5",
   "metadata": {},
   "source": [
    "### P1.2"
   ]
  },
  {
   "cell_type": "code",
   "execution_count": null,
   "id": "23fa8fda",
   "metadata": {},
   "outputs": [
    {
     "data": {
      "image/png": "[encoded data removed]",
      "text/plain": [
       "<Figure size 1440x288 with 3 Axes>"
      ]
     },
     "metadata": {
      "needs_background": "light"
     },
     "output_type": "display_data"
    }
   ],
   "source": [
    "plot_graph(X_train, X_test, y_train, y_test, min_splits = 2)"
   ]
  },
  {
   "cell_type": "markdown",
   "id": "29f6c89d",
   "metadata": {},
   "source": [
    "### P1.3"
   ]
  },
  {
   "cell_type": "code",
   "execution_count": null,
   "id": "8831d6a3",
   "metadata": {},
   "outputs": [
    {
     "name": "stdout",
     "output_type": "stream",
     "text": [
      "node=0 is a split node: go to left node 1 if self.X[:, 1] <= 0.6131 else to right node 14: Impurity 0.4526, Improvement 0.1041, Prediction -> 0 \n",
      "\tnode=1 is a split node: go to left node 2 if self.X[:, 0] <= 0.4118 else to right node 7: Impurity 0.2485, Improvement 0.0340, Prediction -> 0 \n",
      "\tnode=14 is a split node: go to left node 15 if self.X[:, 5] <= 0.4471 else to right node 22: Impurity 0.4777, Improvement 0.0636, Prediction -> 1 \n",
      "\t\tnode=2 is a split node: go to left node 3 if self.X[:, 6] <= 0.5132 else to right node 6: Impurity 0.1794, Improvement 0.0137, Prediction -> 0 \n",
      "\t\tnode=7 is a split node: go to left node 8 if self.X[:, 1] <= 0.4447 else to right node 11: Impurity 0.4995, Improvement 0.1554, Prediction -> 1 \n",
      "\t\tnode=15 is a split node: go to left node 16 if self.X[:, 1] <= 0.7312 else to right node 19: Impurity 0.4370, Improvement 0.0455, Prediction -> 0 \n",
      "\t\tnode=22 is a split node: go to left node 23 if self.X[:, 1] <= 0.7940 else to right node 26: Impurity 0.4050, Improvement 0.0557, Prediction -> 1 \n",
      "\t\t\tnode=3 is a split node: go to left node 4 if self.X[:, 1] <= 0.5779 else to right node 5: Impurity 0.1623, Improvement 0.0100, Prediction -> 0 \n",
      "\t\t\tnode=6 is a leaf node: Impurity 0.3750, Prediction -> 1 \n",
      "\t\t\tnode=8 is a split node: go to left node 9 if self.X[:, 0] <= 0.4412 else to right node 10: Impurity 0.0000, Improvement 0.0000, Prediction -> 0 \n",
      "\t\t\tnode=11 is a split node: go to left node 12 if self.X[:, 7] <= 0.4167 else to right node 13: Impurity 0.4444, Improvement 0.3660, Prediction -> 1 \n",
      "\t\t\tnode=16 is a split node: go to left node 17 if self.X[:, 1] <= 0.6231 else to right node 18: Impurity 0.3133, Improvement 0.0531, Prediction -> 0 \n",
      "\t\t\tnode=19 is a split node: go to left node 20 if self.X[:, 7] <= 0.1000 else to right node 21: Impurity 0.5000, Improvement 0.1190, Prediction -> 0 \n",
      "\t\t\tnode=23 is a split node: go to left node 24 if self.X[:, 7] <= 0.1500 else to right node 25: Impurity 0.4870, Improvement 0.0529, Prediction -> 1 \n",
      "\t\t\tnode=26 is a split node: go to left node 27 if self.X[:, 2] <= 0.7623 else to right node 28: Impurity 0.1461, Improvement 0.0177, Prediction -> 1 \n",
      "\t\t\t\tnode=4 is a leaf node: Impurity 0.1092, Prediction -> 0 \n",
      "\t\t\t\tnode=5 is a leaf node: Impurity 0.3750, Prediction -> 0 \n",
      "\t\t\t\tnode=9 is a leaf node: Impurity 0.0000, Prediction -> 0 \n",
      "\t\t\t\tnode=10 is a leaf node: Impurity 0.0000, Prediction -> 0 \n",
      "\t\t\t\tnode=12 is a leaf node: Impurity 0.1107, Prediction -> 1 \n",
      "\t\t\t\tnode=13 is a leaf node: Impurity 0.0000, Prediction -> 0 \n",
      "\t\t\t\tnode=17 is a leaf node: Impurity 0.4800, Prediction -> 1 \n",
      "\t\t\t\tnode=18 is a leaf node: Impurity 0.2248, Prediction -> 0 \n",
      "\t\t\t\tnode=20 is a leaf node: Impurity 0.0000, Prediction -> 0 \n",
      "\t\t\t\tnode=21 is a leaf node: Impurity 0.4717, Prediction -> 1 \n",
      "\t\t\t\tnode=24 is a leaf node: Impurity 0.4835, Prediction -> 0 \n",
      "\t\t\t\tnode=25 is a leaf node: Impurity 0.3898, Prediction -> 1 \n",
      "\t\t\t\tnode=27 is a leaf node: Impurity 0.0981, Prediction -> 1 \n",
      "\t\t\t\tnode=28 is a leaf node: Impurity 0.4800, Prediction -> 1 \n"
     ]
    }
   ],
   "source": [
    "my_clf.traverse()"
   ]
  },
  {
   "cell_type": "markdown",
   "id": "99389653",
   "metadata": {},
   "source": [
    "\n",
    "## Analysis and discussion (20 points)"
   ]
  },
  {
   "cell_type": "markdown",
   "id": "cf780793",
   "metadata": {},
   "source": [
    "Your answer must include.....\n",
    "\n",
    "- Explanation of your implementation of a decision tree method,\n",
    "- Comparison of two crieteria (the Gini index vs. the classification error),\n",
    "- Analysis of the results from P1. \n",
    "    \n",
    "For analysis and discussion, you can exploit all functions you've written or make your own functions (or scripts)."
   ]
  },
  {
   "cell_type": "code",
   "execution_count": null,
   "id": "18baaaac",
   "metadata": {},
   "outputs": [],
   "source": []
  }
 ],
 "metadata": {
  "interpreter": {
   "hash": "31f2aee4e71d21fbe5cf8b01ff0e069b9275f58929596ceb00d14d90e3e16cd6"
  },
  "kernelspec": {
   "display_name": "Python 3.8.10 64-bit",
   "name": "python3"
  },
  "language_info": {
   "codemirror_mode": {
    "name": "ipython",
    "version": 3
   },
   "file_extension": ".py",
   "mimetype": "text/x-python",
   "name": "python",
   "nbconvert_exporter": "python",
   "pygments_lexer": "ipython3",
   "version": "3.8.10"
  },
  "widgets": {
   "application/vnd.jupyter.widget-state+json": {
    "state": {},
    "version_major": 2,
    "version_minor": 0
   }
  }
 },
 "nbformat": 4,
 "nbformat_minor": 5
}
